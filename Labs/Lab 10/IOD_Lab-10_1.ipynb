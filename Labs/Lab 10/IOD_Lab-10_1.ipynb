{
 "cells": [
  {
   "cell_type": "markdown",
   "metadata": {
    "colab_type": "text",
    "id": "gn3SG1yo1KdV"
   },
   "source": [
    "<div>\n",
    "<img src=https://www.institutedata.com/wp-content/uploads/2019/10/iod_h_tp_primary_c.svg width=\"300\">\n",
    "</div>"
   ]
  },
  {
   "cell_type": "markdown",
   "metadata": {
    "colab_type": "text",
    "id": "g-SD7a9X1KdY"
   },
   "source": [
    "# Lab 10.1: NN with Keras\n",
    "INSTRUCTIONS:\n",
    "- Read the guides and hints, then create the necessary analysis and code to find an answer and conclusion for the task below.\n",
    "- **NOTE**: This is a Regression problem. Consider the appropriate:\n",
    "    - Activation function\n",
    "    - Loss/Cost Function\n",
    "    - Metrics"
   ]
  },
  {
   "cell_type": "markdown",
   "metadata": {
    "colab_type": "text",
    "id": "ENgfRnvL1Kdc"
   },
   "source": [
    "### Import libraries"
   ]
  },
  {
   "cell_type": "code",
   "execution_count": 1,
   "metadata": {
    "colab": {},
    "colab_type": "code",
    "id": "Z9H465X-1Kde"
   },
   "outputs": [],
   "source": [
    "# insert code here\n",
    "## Import libraries\n",
    "import numpy as np\n",
    "\n",
    "%matplotlib inline\n",
    "import matplotlib.pyplot as plt\n",
    "import seaborn as sns\n",
    "\n",
    "from sklearn.datasets import load_digits\n",
    "from sklearn.datasets import load_diabetes\n",
    "from sklearn.metrics import confusion_matrix\n",
    "from sklearn.model_selection import train_test_split\n",
    "\n",
    "# import keras\n",
    "# conda install -c conda-forge keras\n",
    "from keras.models import Sequential\n",
    "from keras.layers import Dense\n",
    "from keras.utils import to_categorical"
   ]
  },
  {
   "cell_type": "markdown",
   "metadata": {
    "colab_type": "text",
    "id": "5FHh910J1Kdm"
   },
   "source": [
    "### Load data\n",
    "Load the Diabetes dataset from **SciKit-Learn**."
   ]
  },
  {
   "cell_type": "code",
   "execution_count": 2,
   "metadata": {
    "colab": {},
    "colab_type": "code",
    "id": "MWu8SlQF1Kdo"
   },
   "outputs": [],
   "source": [
    "# insert code here\n",
    "diabetes = load_diabetes()"
   ]
  },
  {
   "cell_type": "code",
   "execution_count": 3,
   "metadata": {},
   "outputs": [
    {
     "data": {
      "text/plain": [
       "{'data': array([[ 0.03807591,  0.05068012,  0.06169621, ..., -0.00259226,\n",
       "          0.01990842, -0.01764613],\n",
       "        [-0.00188202, -0.04464164, -0.05147406, ..., -0.03949338,\n",
       "         -0.06832974, -0.09220405],\n",
       "        [ 0.08529891,  0.05068012,  0.04445121, ..., -0.00259226,\n",
       "          0.00286377, -0.02593034],\n",
       "        ...,\n",
       "        [ 0.04170844,  0.05068012, -0.01590626, ..., -0.01107952,\n",
       "         -0.04687948,  0.01549073],\n",
       "        [-0.04547248, -0.04464164,  0.03906215, ...,  0.02655962,\n",
       "          0.04452837, -0.02593034],\n",
       "        [-0.04547248, -0.04464164, -0.0730303 , ..., -0.03949338,\n",
       "         -0.00421986,  0.00306441]]),\n",
       " 'target': array([151.,  75., 141., 206., 135.,  97., 138.,  63., 110., 310., 101.,\n",
       "         69., 179., 185., 118., 171., 166., 144.,  97., 168.,  68.,  49.,\n",
       "         68., 245., 184., 202., 137.,  85., 131., 283., 129.,  59., 341.,\n",
       "         87.,  65., 102., 265., 276., 252.,  90., 100.,  55.,  61.,  92.,\n",
       "        259.,  53., 190., 142.,  75., 142., 155., 225.,  59., 104., 182.,\n",
       "        128.,  52.,  37., 170., 170.,  61., 144.,  52., 128.,  71., 163.,\n",
       "        150.,  97., 160., 178.,  48., 270., 202., 111.,  85.,  42., 170.,\n",
       "        200., 252., 113., 143.,  51.,  52., 210.,  65., 141.,  55., 134.,\n",
       "         42., 111.,  98., 164.,  48.,  96.,  90., 162., 150., 279.,  92.,\n",
       "         83., 128., 102., 302., 198.,  95.,  53., 134., 144., 232.,  81.,\n",
       "        104.,  59., 246., 297., 258., 229., 275., 281., 179., 200., 200.,\n",
       "        173., 180.,  84., 121., 161.,  99., 109., 115., 268., 274., 158.,\n",
       "        107.,  83., 103., 272.,  85., 280., 336., 281., 118., 317., 235.,\n",
       "         60., 174., 259., 178., 128.,  96., 126., 288.,  88., 292.,  71.,\n",
       "        197., 186.,  25.,  84.,  96., 195.,  53., 217., 172., 131., 214.,\n",
       "         59.,  70., 220., 268., 152.,  47.,  74., 295., 101., 151., 127.,\n",
       "        237., 225.,  81., 151., 107.,  64., 138., 185., 265., 101., 137.,\n",
       "        143., 141.,  79., 292., 178.,  91., 116.,  86., 122.,  72., 129.,\n",
       "        142.,  90., 158.,  39., 196., 222., 277.,  99., 196., 202., 155.,\n",
       "         77., 191.,  70.,  73.,  49.,  65., 263., 248., 296., 214., 185.,\n",
       "         78.,  93., 252., 150.,  77., 208.,  77., 108., 160.,  53., 220.,\n",
       "        154., 259.,  90., 246., 124.,  67.,  72., 257., 262., 275., 177.,\n",
       "         71.,  47., 187., 125.,  78.,  51., 258., 215., 303., 243.,  91.,\n",
       "        150., 310., 153., 346.,  63.,  89.,  50.,  39., 103., 308., 116.,\n",
       "        145.,  74.,  45., 115., 264.,  87., 202., 127., 182., 241.,  66.,\n",
       "         94., 283.,  64., 102., 200., 265.,  94., 230., 181., 156., 233.,\n",
       "         60., 219.,  80.,  68., 332., 248.,  84., 200.,  55.,  85.,  89.,\n",
       "         31., 129.,  83., 275.,  65., 198., 236., 253., 124.,  44., 172.,\n",
       "        114., 142., 109., 180., 144., 163., 147.,  97., 220., 190., 109.,\n",
       "        191., 122., 230., 242., 248., 249., 192., 131., 237.,  78., 135.,\n",
       "        244., 199., 270., 164.,  72.,  96., 306.,  91., 214.,  95., 216.,\n",
       "        263., 178., 113., 200., 139., 139.,  88., 148.,  88., 243.,  71.,\n",
       "         77., 109., 272.,  60.,  54., 221.,  90., 311., 281., 182., 321.,\n",
       "         58., 262., 206., 233., 242., 123., 167.,  63., 197.,  71., 168.,\n",
       "        140., 217., 121., 235., 245.,  40.,  52., 104., 132.,  88.,  69.,\n",
       "        219.,  72., 201., 110.,  51., 277.,  63., 118.,  69., 273., 258.,\n",
       "         43., 198., 242., 232., 175.,  93., 168., 275., 293., 281.,  72.,\n",
       "        140., 189., 181., 209., 136., 261., 113., 131., 174., 257.,  55.,\n",
       "         84.,  42., 146., 212., 233.,  91., 111., 152., 120.,  67., 310.,\n",
       "         94., 183.,  66., 173.,  72.,  49.,  64.,  48., 178., 104., 132.,\n",
       "        220.,  57.]),\n",
       " 'frame': None,\n",
       " 'DESCR': '.. _diabetes_dataset:\\n\\nDiabetes dataset\\n----------------\\n\\nTen baseline variables, age, sex, body mass index, average blood\\npressure, and six blood serum measurements were obtained for each of n =\\n442 diabetes patients, as well as the response of interest, a\\nquantitative measure of disease progression one year after baseline.\\n\\n**Data Set Characteristics:**\\n\\n  :Number of Instances: 442\\n\\n  :Number of Attributes: First 10 columns are numeric predictive values\\n\\n  :Target: Column 11 is a quantitative measure of disease progression one year after baseline\\n\\n  :Attribute Information:\\n      - age     age in years\\n      - sex\\n      - bmi     body mass index\\n      - bp      average blood pressure\\n      - s1      tc, total serum cholesterol\\n      - s2      ldl, low-density lipoproteins\\n      - s3      hdl, high-density lipoproteins\\n      - s4      tch, total cholesterol / HDL\\n      - s5      ltg, possibly log of serum triglycerides level\\n      - s6      glu, blood sugar level\\n\\nNote: Each of these 10 feature variables have been mean centered and scaled by the standard deviation times `n_samples` (i.e. the sum of squares of each column totals 1).\\n\\nSource URL:\\nhttps://www4.stat.ncsu.edu/~boos/var.select/diabetes.html\\n\\nFor more information see:\\nBradley Efron, Trevor Hastie, Iain Johnstone and Robert Tibshirani (2004) \"Least Angle Regression,\" Annals of Statistics (with discussion), 407-499.\\n(https://web.stanford.edu/~hastie/Papers/LARS/LeastAngle_2002.pdf)',\n",
       " 'feature_names': ['age',\n",
       "  'sex',\n",
       "  'bmi',\n",
       "  'bp',\n",
       "  's1',\n",
       "  's2',\n",
       "  's3',\n",
       "  's4',\n",
       "  's5',\n",
       "  's6'],\n",
       " 'data_filename': 'diabetes_data.csv.gz',\n",
       " 'target_filename': 'diabetes_target.csv.gz',\n",
       " 'data_module': 'sklearn.datasets.data'}"
      ]
     },
     "execution_count": 3,
     "metadata": {},
     "output_type": "execute_result"
    }
   ],
   "source": [
    "diabetes"
   ]
  },
  {
   "cell_type": "code",
   "execution_count": 4,
   "metadata": {},
   "outputs": [
    {
     "data": {
      "text/plain": [
       "(442, 10)"
      ]
     },
     "execution_count": 4,
     "metadata": {},
     "output_type": "execute_result"
    }
   ],
   "source": [
    "diabetes['data'].shape"
   ]
  },
  {
   "cell_type": "code",
   "execution_count": 5,
   "metadata": {},
   "outputs": [
    {
     "data": {
      "text/plain": [
       "(442,)"
      ]
     },
     "execution_count": 5,
     "metadata": {},
     "output_type": "execute_result"
    }
   ],
   "source": [
    "diabetes['target'].shape"
   ]
  },
  {
   "cell_type": "markdown",
   "metadata": {
    "colab_type": "text",
    "id": "xR_yLpR01Kdr"
   },
   "source": [
    "### Prepare input data"
   ]
  },
  {
   "cell_type": "code",
   "execution_count": 6,
   "metadata": {
    "colab": {},
    "colab_type": "code",
    "id": "Sp2mf2bB1Kds"
   },
   "outputs": [
    {
     "name": "stdout",
     "output_type": "stream",
     "text": [
      ".. _diabetes_dataset:\n",
      "\n",
      "Diabetes dataset\n",
      "----------------\n",
      "\n",
      "Ten baseline variables, age, sex, body mass index, average blood\n",
      "pressure, and six blood serum measurements were obtained for each of n =\n",
      "442 diabetes patients, as well as the response of interest, a\n",
      "quantitative measure of disease progression one year after baseline.\n",
      "\n",
      "**Data Set Characteristics:**\n",
      "\n",
      "  :Number of Instances: 442\n",
      "\n",
      "  :Number of Attributes: First 10 columns are numeric predictive values\n",
      "\n",
      "  :Target: Column 11 is a quantitative measure of disease progression one year after baseline\n",
      "\n",
      "  :Attribute Information:\n",
      "      - age     age in years\n",
      "      - sex\n",
      "      - bmi     body mass index\n",
      "      - bp      average blood pressure\n",
      "      - s1      tc, total serum cholesterol\n",
      "      - s2      ldl, low-density lipoproteins\n",
      "      - s3      hdl, high-density lipoproteins\n",
      "      - s4      tch, total cholesterol / HDL\n",
      "      - s5      ltg, possibly log of serum triglycerides level\n",
      "      - s6      glu, blood sugar level\n",
      "\n",
      "Note: Each of these 10 feature variables have been mean centered and scaled by the standard deviation times `n_samples` (i.e. the sum of squares of each column totals 1).\n",
      "\n",
      "Source URL:\n",
      "https://www4.stat.ncsu.edu/~boos/var.select/diabetes.html\n",
      "\n",
      "For more information see:\n",
      "Bradley Efron, Trevor Hastie, Iain Johnstone and Robert Tibshirani (2004) \"Least Angle Regression,\" Annals of Statistics (with discussion), 407-499.\n",
      "(https://web.stanford.edu/~hastie/Papers/LARS/LeastAngle_2002.pdf)\n"
     ]
    }
   ],
   "source": [
    "# insert code here\n",
    "print(diabetes.DESCR)"
   ]
  },
  {
   "cell_type": "markdown",
   "metadata": {
    "colab_type": "text",
    "id": "j1Vsh6cm1Kdv"
   },
   "source": [
    "### Split the data (training/test)"
   ]
  },
  {
   "cell_type": "code",
   "execution_count": 7,
   "metadata": {},
   "outputs": [],
   "source": [
    "# input\n",
    "X = diabetes.data"
   ]
  },
  {
   "cell_type": "code",
   "execution_count": 8,
   "metadata": {},
   "outputs": [
    {
     "data": {
      "text/plain": [
       "array([[ 0.03807591,  0.05068012,  0.06169621, ..., -0.00259226,\n",
       "         0.01990842, -0.01764613],\n",
       "       [-0.00188202, -0.04464164, -0.05147406, ..., -0.03949338,\n",
       "        -0.06832974, -0.09220405],\n",
       "       [ 0.08529891,  0.05068012,  0.04445121, ..., -0.00259226,\n",
       "         0.00286377, -0.02593034],\n",
       "       ...,\n",
       "       [ 0.04170844,  0.05068012, -0.01590626, ..., -0.01107952,\n",
       "        -0.04687948,  0.01549073],\n",
       "       [-0.04547248, -0.04464164,  0.03906215, ...,  0.02655962,\n",
       "         0.04452837, -0.02593034],\n",
       "       [-0.04547248, -0.04464164, -0.0730303 , ..., -0.03949338,\n",
       "        -0.00421986,  0.00306441]])"
      ]
     },
     "execution_count": 8,
     "metadata": {},
     "output_type": "execute_result"
    }
   ],
   "source": [
    "X"
   ]
  },
  {
   "cell_type": "code",
   "execution_count": 9,
   "metadata": {},
   "outputs": [],
   "source": [
    "y = diabetes.target"
   ]
  },
  {
   "cell_type": "code",
   "execution_count": 10,
   "metadata": {},
   "outputs": [
    {
     "data": {
      "text/plain": [
       "array([151.,  75., 141., 206., 135.,  97., 138.,  63., 110., 310., 101.,\n",
       "        69., 179., 185., 118., 171., 166., 144.,  97., 168.,  68.,  49.,\n",
       "        68., 245., 184., 202., 137.,  85., 131., 283., 129.,  59., 341.,\n",
       "        87.,  65., 102., 265., 276., 252.,  90., 100.,  55.,  61.,  92.,\n",
       "       259.,  53., 190., 142.,  75., 142., 155., 225.,  59., 104., 182.,\n",
       "       128.,  52.,  37., 170., 170.,  61., 144.,  52., 128.,  71., 163.,\n",
       "       150.,  97., 160., 178.,  48., 270., 202., 111.,  85.,  42., 170.,\n",
       "       200., 252., 113., 143.,  51.,  52., 210.,  65., 141.,  55., 134.,\n",
       "        42., 111.,  98., 164.,  48.,  96.,  90., 162., 150., 279.,  92.,\n",
       "        83., 128., 102., 302., 198.,  95.,  53., 134., 144., 232.,  81.,\n",
       "       104.,  59., 246., 297., 258., 229., 275., 281., 179., 200., 200.,\n",
       "       173., 180.,  84., 121., 161.,  99., 109., 115., 268., 274., 158.,\n",
       "       107.,  83., 103., 272.,  85., 280., 336., 281., 118., 317., 235.,\n",
       "        60., 174., 259., 178., 128.,  96., 126., 288.,  88., 292.,  71.,\n",
       "       197., 186.,  25.,  84.,  96., 195.,  53., 217., 172., 131., 214.,\n",
       "        59.,  70., 220., 268., 152.,  47.,  74., 295., 101., 151., 127.,\n",
       "       237., 225.,  81., 151., 107.,  64., 138., 185., 265., 101., 137.,\n",
       "       143., 141.,  79., 292., 178.,  91., 116.,  86., 122.,  72., 129.,\n",
       "       142.,  90., 158.,  39., 196., 222., 277.,  99., 196., 202., 155.,\n",
       "        77., 191.,  70.,  73.,  49.,  65., 263., 248., 296., 214., 185.,\n",
       "        78.,  93., 252., 150.,  77., 208.,  77., 108., 160.,  53., 220.,\n",
       "       154., 259.,  90., 246., 124.,  67.,  72., 257., 262., 275., 177.,\n",
       "        71.,  47., 187., 125.,  78.,  51., 258., 215., 303., 243.,  91.,\n",
       "       150., 310., 153., 346.,  63.,  89.,  50.,  39., 103., 308., 116.,\n",
       "       145.,  74.,  45., 115., 264.,  87., 202., 127., 182., 241.,  66.,\n",
       "        94., 283.,  64., 102., 200., 265.,  94., 230., 181., 156., 233.,\n",
       "        60., 219.,  80.,  68., 332., 248.,  84., 200.,  55.,  85.,  89.,\n",
       "        31., 129.,  83., 275.,  65., 198., 236., 253., 124.,  44., 172.,\n",
       "       114., 142., 109., 180., 144., 163., 147.,  97., 220., 190., 109.,\n",
       "       191., 122., 230., 242., 248., 249., 192., 131., 237.,  78., 135.,\n",
       "       244., 199., 270., 164.,  72.,  96., 306.,  91., 214.,  95., 216.,\n",
       "       263., 178., 113., 200., 139., 139.,  88., 148.,  88., 243.,  71.,\n",
       "        77., 109., 272.,  60.,  54., 221.,  90., 311., 281., 182., 321.,\n",
       "        58., 262., 206., 233., 242., 123., 167.,  63., 197.,  71., 168.,\n",
       "       140., 217., 121., 235., 245.,  40.,  52., 104., 132.,  88.,  69.,\n",
       "       219.,  72., 201., 110.,  51., 277.,  63., 118.,  69., 273., 258.,\n",
       "        43., 198., 242., 232., 175.,  93., 168., 275., 293., 281.,  72.,\n",
       "       140., 189., 181., 209., 136., 261., 113., 131., 174., 257.,  55.,\n",
       "        84.,  42., 146., 212., 233.,  91., 111., 152., 120.,  67., 310.,\n",
       "        94., 183.,  66., 173.,  72.,  49.,  64.,  48., 178., 104., 132.,\n",
       "       220.,  57.])"
      ]
     },
     "execution_count": 10,
     "metadata": {},
     "output_type": "execute_result"
    }
   ],
   "source": [
    "y"
   ]
  },
  {
   "cell_type": "code",
   "execution_count": 11,
   "metadata": {},
   "outputs": [],
   "source": [
    "X_train, X_test, y_train, y_test = train_test_split(\n",
    "    X, y, \n",
    "    test_size = 0.3,\n",
    "    random_state = 65)"
   ]
  },
  {
   "cell_type": "markdown",
   "metadata": {
    "colab_type": "text",
    "id": "o4dJViJD1Kd0"
   },
   "source": [
    "### Create the model's architecture"
   ]
  },
  {
   "cell_type": "code",
   "execution_count": 12,
   "metadata": {
    "colab": {},
    "colab_type": "code",
    "id": "Tkgf_BLl1Kd1"
   },
   "outputs": [
    {
     "name": "stderr",
     "output_type": "stream",
     "text": [
      "2022-02-10 20:41:18.267972: I tensorflow/core/platform/cpu_feature_guard.cc:142] This TensorFlow binary is optimized with oneAPI Deep Neural Network Library (oneDNN) to use the following CPU instructions in performance-critical operations:  SSE4.1 SSE4.2\n",
      "To enable them in other operations, rebuild TensorFlow with the appropriate compiler flags.\n"
     ]
    }
   ],
   "source": [
    "# insert code here\n",
    "model = Sequential()"
   ]
  },
  {
   "cell_type": "code",
   "execution_count": 13,
   "metadata": {},
   "outputs": [],
   "source": [
    "n_cols = len(X[0])"
   ]
  },
  {
   "cell_type": "code",
   "execution_count": 14,
   "metadata": {},
   "outputs": [],
   "source": [
    "# Add the first hidden layer\n",
    "model.add(Dense(100, activation = 'relu', input_shape = (n_cols, )))\n",
    "# Add the second hidden layer\n",
    "model.add(Dense(50, activation = 'relu'))\n",
    "\n",
    "# Add the output layer\n",
    "model.add(Dense(10, activation = 'linear'))"
   ]
  },
  {
   "cell_type": "code",
   "execution_count": 15,
   "metadata": {},
   "outputs": [
    {
     "name": "stdout",
     "output_type": "stream",
     "text": [
      "Model: \"sequential\"\n",
      "_________________________________________________________________\n",
      "Layer (type)                 Output Shape              Param #   \n",
      "=================================================================\n",
      "dense (Dense)                (None, 100)               1100      \n",
      "_________________________________________________________________\n",
      "dense_1 (Dense)              (None, 50)                5050      \n",
      "_________________________________________________________________\n",
      "dense_2 (Dense)              (None, 10)                510       \n",
      "=================================================================\n",
      "Total params: 6,660\n",
      "Trainable params: 6,660\n",
      "Non-trainable params: 0\n",
      "_________________________________________________________________\n",
      "None\n"
     ]
    }
   ],
   "source": [
    "print(model.summary())"
   ]
  },
  {
   "cell_type": "markdown",
   "metadata": {
    "colab_type": "text",
    "id": "5hQTS42V1Kd4"
   },
   "source": [
    "### Compile the model"
   ]
  },
  {
   "cell_type": "code",
   "execution_count": 16,
   "metadata": {
    "colab": {},
    "colab_type": "code",
    "id": "BvLsoanF1Kd5"
   },
   "outputs": [],
   "source": [
    "# insert code here\n",
    "model.compile(\n",
    "    optimizer = 'adam',\n",
    "    loss = 'mean_squared_error',\n",
    "    metrics = ['RootMeanSquaredError'])"
   ]
  },
  {
   "cell_type": "markdown",
   "metadata": {
    "colab_type": "text",
    "id": "6KPQbnEj1Kd7"
   },
   "source": [
    "### Fit the training data"
   ]
  },
  {
   "cell_type": "code",
   "execution_count": 17,
   "metadata": {},
   "outputs": [
    {
     "name": "stdout",
     "output_type": "stream",
     "text": [
      "Epoch 1/100\n"
     ]
    },
    {
     "name": "stderr",
     "output_type": "stream",
     "text": [
      "2022-02-10 20:41:18.369323: I tensorflow/compiler/mlir/mlir_graph_optimization_pass.cc:116] None of the MLIR optimization passes are enabled (registered 2)\n"
     ]
    },
    {
     "name": "stdout",
     "output_type": "stream",
     "text": [
      "12/12 [==============================] - 1s 35ms/step - loss: 27189.5368 - root_mean_squared_error: 164.8571 - val_loss: 30894.1699 - val_root_mean_squared_error: 175.7674\n",
      "Epoch 2/100\n",
      "12/12 [==============================] - 0s 3ms/step - loss: 28005.6291 - root_mean_squared_error: 167.3388 - val_loss: 30860.0645 - val_root_mean_squared_error: 175.6703\n",
      "Epoch 3/100\n",
      "12/12 [==============================] - 0s 3ms/step - loss: 28247.2405 - root_mean_squared_error: 168.0542 - val_loss: 30793.3906 - val_root_mean_squared_error: 175.4805\n",
      "Epoch 4/100\n",
      "12/12 [==============================] - 0s 3ms/step - loss: 28137.4905 - root_mean_squared_error: 167.7340 - val_loss: 30665.2559 - val_root_mean_squared_error: 175.1150\n",
      "Epoch 5/100\n",
      "12/12 [==============================] - 0s 3ms/step - loss: 25869.0231 - root_mean_squared_error: 160.7373 - val_loss: 30436.2441 - val_root_mean_squared_error: 174.4599\n",
      "Epoch 6/100\n",
      "12/12 [==============================] - 0s 3ms/step - loss: 30329.5361 - root_mean_squared_error: 173.7873 - val_loss: 30055.7500 - val_root_mean_squared_error: 173.3660\n",
      "Epoch 7/100\n",
      "12/12 [==============================] - 0s 3ms/step - loss: 26892.3460 - root_mean_squared_error: 163.8543 - val_loss: 29474.7793 - val_root_mean_squared_error: 171.6822\n",
      "Epoch 8/100\n",
      "12/12 [==============================] - 0s 3ms/step - loss: 26253.4438 - root_mean_squared_error: 161.9857 - val_loss: 28625.4062 - val_root_mean_squared_error: 169.1905\n",
      "Epoch 9/100\n",
      "12/12 [==============================] - 0s 3ms/step - loss: 27032.0195 - root_mean_squared_error: 164.3492 - val_loss: 27463.9492 - val_root_mean_squared_error: 165.7225\n",
      "Epoch 10/100\n",
      "12/12 [==============================] - 0s 3ms/step - loss: 23232.4093 - root_mean_squared_error: 152.3563 - val_loss: 25977.2188 - val_root_mean_squared_error: 161.1745\n",
      "Epoch 11/100\n",
      "12/12 [==============================] - 0s 3ms/step - loss: 23548.1905 - root_mean_squared_error: 153.3733 - val_loss: 24109.9688 - val_root_mean_squared_error: 155.2738\n",
      "Epoch 12/100\n",
      "12/12 [==============================] - 0s 3ms/step - loss: 21152.5643 - root_mean_squared_error: 145.4185 - val_loss: 21887.5527 - val_root_mean_squared_error: 147.9444\n",
      "Epoch 13/100\n",
      "12/12 [==============================] - 0s 3ms/step - loss: 19077.0132 - root_mean_squared_error: 138.0110 - val_loss: 19406.5859 - val_root_mean_squared_error: 139.3075\n",
      "Epoch 14/100\n",
      "12/12 [==============================] - 0s 3ms/step - loss: 15466.2534 - root_mean_squared_error: 124.3348 - val_loss: 16739.4609 - val_root_mean_squared_error: 129.3811\n",
      "Epoch 15/100\n",
      "12/12 [==============================] - 0s 3ms/step - loss: 13490.6199 - root_mean_squared_error: 116.1395 - val_loss: 14002.3076 - val_root_mean_squared_error: 118.3313\n",
      "Epoch 16/100\n",
      "12/12 [==============================] - 0s 3ms/step - loss: 11224.4791 - root_mean_squared_error: 105.9075 - val_loss: 11422.7393 - val_root_mean_squared_error: 106.8772\n",
      "Epoch 17/100\n",
      "12/12 [==============================] - 0s 3ms/step - loss: 9461.5764 - root_mean_squared_error: 97.1519 - val_loss: 9130.2676 - val_root_mean_squared_error: 95.5524\n",
      "Epoch 18/100\n",
      "12/12 [==============================] - 0s 3ms/step - loss: 7334.0069 - root_mean_squared_error: 85.4808 - val_loss: 7332.2603 - val_root_mean_squared_error: 85.6286\n",
      "Epoch 19/100\n",
      "12/12 [==============================] - 0s 3ms/step - loss: 6215.9498 - root_mean_squared_error: 78.7700 - val_loss: 6005.2295 - val_root_mean_squared_error: 77.4934\n",
      "Epoch 20/100\n",
      "12/12 [==============================] - 0s 3ms/step - loss: 5588.8855 - root_mean_squared_error: 74.4847 - val_loss: 5199.7915 - val_root_mean_squared_error: 72.1096\n",
      "Epoch 21/100\n",
      "12/12 [==============================] - 0s 3ms/step - loss: 4260.1439 - root_mean_squared_error: 65.2494 - val_loss: 4750.3389 - val_root_mean_squared_error: 68.9227\n",
      "Epoch 22/100\n",
      "12/12 [==============================] - 0s 3ms/step - loss: 4304.3654 - root_mean_squared_error: 65.5413 - val_loss: 4469.5132 - val_root_mean_squared_error: 66.8544\n",
      "Epoch 23/100\n",
      "12/12 [==============================] - 0s 3ms/step - loss: 4325.1076 - root_mean_squared_error: 65.6501 - val_loss: 4317.3042 - val_root_mean_squared_error: 65.7062\n",
      "Epoch 24/100\n",
      "12/12 [==============================] - 0s 3ms/step - loss: 4089.1502 - root_mean_squared_error: 63.9348 - val_loss: 4220.0034 - val_root_mean_squared_error: 64.9615\n",
      "Epoch 25/100\n",
      "12/12 [==============================] - 0s 3ms/step - loss: 3974.0956 - root_mean_squared_error: 62.9962 - val_loss: 4143.2412 - val_root_mean_squared_error: 64.3680\n",
      "Epoch 26/100\n",
      "12/12 [==============================] - 0s 3ms/step - loss: 3804.1649 - root_mean_squared_error: 61.6665 - val_loss: 4089.3108 - val_root_mean_squared_error: 63.9477\n",
      "Epoch 27/100\n",
      "12/12 [==============================] - 0s 3ms/step - loss: 3459.6812 - root_mean_squared_error: 58.7477 - val_loss: 4042.7886 - val_root_mean_squared_error: 63.5829\n",
      "Epoch 28/100\n",
      "12/12 [==============================] - 0s 3ms/step - loss: 3754.8004 - root_mean_squared_error: 61.2293 - val_loss: 3984.1245 - val_root_mean_squared_error: 63.1199\n",
      "Epoch 29/100\n",
      "12/12 [==============================] - 0s 3ms/step - loss: 3685.3682 - root_mean_squared_error: 60.6734 - val_loss: 3959.3220 - val_root_mean_squared_error: 62.9231\n",
      "Epoch 30/100\n",
      "12/12 [==============================] - 0s 3ms/step - loss: 3682.1542 - root_mean_squared_error: 60.5674 - val_loss: 3894.8979 - val_root_mean_squared_error: 62.4091\n",
      "Epoch 31/100\n",
      "12/12 [==============================] - 0s 3ms/step - loss: 3649.0248 - root_mean_squared_error: 60.3954 - val_loss: 3850.7656 - val_root_mean_squared_error: 62.0545\n",
      "Epoch 32/100\n",
      "12/12 [==============================] - 0s 3ms/step - loss: 3240.5977 - root_mean_squared_error: 56.8704 - val_loss: 3822.4106 - val_root_mean_squared_error: 61.8256\n",
      "Epoch 33/100\n",
      "12/12 [==============================] - 0s 3ms/step - loss: 3181.8112 - root_mean_squared_error: 56.3323 - val_loss: 3791.8398 - val_root_mean_squared_error: 61.5779\n",
      "Epoch 34/100\n",
      "12/12 [==============================] - 0s 3ms/step - loss: 3386.3154 - root_mean_squared_error: 58.1304 - val_loss: 3742.6125 - val_root_mean_squared_error: 61.1769\n",
      "Epoch 35/100\n",
      "12/12 [==============================] - 0s 3ms/step - loss: 3534.1243 - root_mean_squared_error: 59.4378 - val_loss: 3710.5769 - val_root_mean_squared_error: 60.9145\n",
      "Epoch 36/100\n",
      "12/12 [==============================] - 0s 3ms/step - loss: 3297.8680 - root_mean_squared_error: 57.3749 - val_loss: 3693.0513 - val_root_mean_squared_error: 60.7705\n",
      "Epoch 37/100\n",
      "12/12 [==============================] - 0s 3ms/step - loss: 3066.5154 - root_mean_squared_error: 55.3322 - val_loss: 3666.9014 - val_root_mean_squared_error: 60.5549\n",
      "Epoch 38/100\n",
      "12/12 [==============================] - 0s 3ms/step - loss: 3243.3543 - root_mean_squared_error: 56.8899 - val_loss: 3636.9238 - val_root_mean_squared_error: 60.3069\n",
      "Epoch 39/100\n",
      "12/12 [==============================] - 0s 3ms/step - loss: 3191.5061 - root_mean_squared_error: 56.4381 - val_loss: 3617.3789 - val_root_mean_squared_error: 60.1446\n",
      "Epoch 40/100\n",
      "12/12 [==============================] - 0s 3ms/step - loss: 2837.1818 - root_mean_squared_error: 52.9827 - val_loss: 3594.9587 - val_root_mean_squared_error: 59.9580\n",
      "Epoch 41/100\n",
      "12/12 [==============================] - 0s 3ms/step - loss: 3374.5846 - root_mean_squared_error: 58.0723 - val_loss: 3571.5598 - val_root_mean_squared_error: 59.7625\n",
      "Epoch 42/100\n",
      "12/12 [==============================] - 0s 3ms/step - loss: 2978.2135 - root_mean_squared_error: 54.5446 - val_loss: 3550.0044 - val_root_mean_squared_error: 59.5819\n",
      "Epoch 43/100\n",
      "12/12 [==============================] - 0s 3ms/step - loss: 3240.7935 - root_mean_squared_error: 56.8890 - val_loss: 3521.6138 - val_root_mean_squared_error: 59.3432\n",
      "Epoch 44/100\n",
      "12/12 [==============================] - 0s 3ms/step - loss: 3124.2880 - root_mean_squared_error: 55.8347 - val_loss: 3494.5105 - val_root_mean_squared_error: 59.1144\n",
      "Epoch 45/100\n",
      "12/12 [==============================] - 0s 3ms/step - loss: 2967.8470 - root_mean_squared_error: 54.4310 - val_loss: 3468.2600 - val_root_mean_squared_error: 58.8919\n",
      "Epoch 46/100\n"
     ]
    },
    {
     "name": "stdout",
     "output_type": "stream",
     "text": [
      "12/12 [==============================] - 0s 3ms/step - loss: 3005.2368 - root_mean_squared_error: 54.8111 - val_loss: 3460.0205 - val_root_mean_squared_error: 58.8219\n",
      "Epoch 47/100\n",
      "12/12 [==============================] - 0s 3ms/step - loss: 3425.7125 - root_mean_squared_error: 58.4265 - val_loss: 3441.7280 - val_root_mean_squared_error: 58.6662\n",
      "Epoch 48/100\n",
      "12/12 [==============================] - 0s 3ms/step - loss: 3150.0914 - root_mean_squared_error: 56.1093 - val_loss: 3429.7661 - val_root_mean_squared_error: 58.5642\n",
      "Epoch 49/100\n",
      "12/12 [==============================] - 0s 3ms/step - loss: 3123.0386 - root_mean_squared_error: 55.8464 - val_loss: 3418.0588 - val_root_mean_squared_error: 58.4642\n",
      "Epoch 50/100\n",
      "12/12 [==============================] - 0s 3ms/step - loss: 2961.4022 - root_mean_squared_error: 54.3812 - val_loss: 3398.1924 - val_root_mean_squared_error: 58.2940\n",
      "Epoch 51/100\n",
      "12/12 [==============================] - 0s 3ms/step - loss: 3095.1373 - root_mean_squared_error: 55.6078 - val_loss: 3378.7512 - val_root_mean_squared_error: 58.1270\n",
      "Epoch 52/100\n",
      "12/12 [==============================] - 0s 3ms/step - loss: 3066.8815 - root_mean_squared_error: 55.3426 - val_loss: 3369.0930 - val_root_mean_squared_error: 58.0439\n",
      "Epoch 53/100\n",
      "12/12 [==============================] - 0s 3ms/step - loss: 3241.0072 - root_mean_squared_error: 56.8701 - val_loss: 3349.6306 - val_root_mean_squared_error: 57.8760\n",
      "Epoch 54/100\n",
      "12/12 [==============================] - 0s 3ms/step - loss: 2835.5140 - root_mean_squared_error: 53.2049 - val_loss: 3343.8938 - val_root_mean_squared_error: 57.8264\n",
      "Epoch 55/100\n",
      "12/12 [==============================] - 0s 3ms/step - loss: 3074.9872 - root_mean_squared_error: 55.3817 - val_loss: 3320.7903 - val_root_mean_squared_error: 57.6263\n",
      "Epoch 56/100\n",
      "12/12 [==============================] - 0s 3ms/step - loss: 2880.7801 - root_mean_squared_error: 53.5854 - val_loss: 3313.9360 - val_root_mean_squared_error: 57.5668\n",
      "Epoch 57/100\n",
      "12/12 [==============================] - 0s 3ms/step - loss: 3122.0642 - root_mean_squared_error: 55.8497 - val_loss: 3303.7844 - val_root_mean_squared_error: 57.4786\n",
      "Epoch 58/100\n",
      "12/12 [==============================] - 0s 3ms/step - loss: 3347.7644 - root_mean_squared_error: 57.6255 - val_loss: 3292.3770 - val_root_mean_squared_error: 57.3792\n",
      "Epoch 59/100\n",
      "12/12 [==============================] - 0s 3ms/step - loss: 2896.7364 - root_mean_squared_error: 53.8138 - val_loss: 3281.2126 - val_root_mean_squared_error: 57.2819\n",
      "Epoch 60/100\n",
      "12/12 [==============================] - 0s 3ms/step - loss: 2915.4177 - root_mean_squared_error: 53.9780 - val_loss: 3264.5339 - val_root_mean_squared_error: 57.1361\n",
      "Epoch 61/100\n",
      "12/12 [==============================] - 0s 3ms/step - loss: 2486.2722 - root_mean_squared_error: 49.7656 - val_loss: 3257.2002 - val_root_mean_squared_error: 57.0719\n",
      "Epoch 62/100\n",
      "12/12 [==============================] - 0s 3ms/step - loss: 2841.6095 - root_mean_squared_error: 53.3045 - val_loss: 3249.6262 - val_root_mean_squared_error: 57.0055\n",
      "Epoch 63/100\n",
      "12/12 [==============================] - 0s 3ms/step - loss: 2820.1864 - root_mean_squared_error: 53.0820 - val_loss: 3237.4685 - val_root_mean_squared_error: 56.8988\n",
      "Epoch 64/100\n",
      "12/12 [==============================] - 0s 3ms/step - loss: 2651.3914 - root_mean_squared_error: 51.4611 - val_loss: 3236.6709 - val_root_mean_squared_error: 56.8918\n",
      "Epoch 65/100\n",
      "12/12 [==============================] - 0s 3ms/step - loss: 2749.9771 - root_mean_squared_error: 52.3980 - val_loss: 3230.8958 - val_root_mean_squared_error: 56.8410\n",
      "Epoch 66/100\n",
      "12/12 [==============================] - 0s 3ms/step - loss: 2867.4100 - root_mean_squared_error: 53.5082 - val_loss: 3214.8945 - val_root_mean_squared_error: 56.7000\n",
      "Epoch 67/100\n",
      "12/12 [==============================] - 0s 3ms/step - loss: 2643.0280 - root_mean_squared_error: 51.3185 - val_loss: 3205.2695 - val_root_mean_squared_error: 56.6151\n",
      "Epoch 68/100\n",
      "12/12 [==============================] - 0s 3ms/step - loss: 2919.3651 - root_mean_squared_error: 54.0020 - val_loss: 3204.2261 - val_root_mean_squared_error: 56.6059\n",
      "Epoch 69/100\n",
      "12/12 [==============================] - 0s 3ms/step - loss: 2938.7273 - root_mean_squared_error: 54.1868 - val_loss: 3204.3374 - val_root_mean_squared_error: 56.6069\n",
      "Epoch 70/100\n",
      "12/12 [==============================] - 0s 3ms/step - loss: 2615.8135 - root_mean_squared_error: 51.1282 - val_loss: 3194.7605 - val_root_mean_squared_error: 56.5222\n",
      "Epoch 71/100\n",
      "12/12 [==============================] - 0s 3ms/step - loss: 2870.9928 - root_mean_squared_error: 53.4910 - val_loss: 3185.0356 - val_root_mean_squared_error: 56.4361\n",
      "Epoch 72/100\n",
      "12/12 [==============================] - 0s 3ms/step - loss: 2941.6967 - root_mean_squared_error: 54.1676 - val_loss: 3178.1077 - val_root_mean_squared_error: 56.3747\n",
      "Epoch 73/100\n",
      "12/12 [==============================] - 0s 3ms/step - loss: 2971.4096 - root_mean_squared_error: 54.4930 - val_loss: 3176.6370 - val_root_mean_squared_error: 56.3617\n",
      "Epoch 74/100\n",
      "12/12 [==============================] - 0s 3ms/step - loss: 2792.4530 - root_mean_squared_error: 52.7736 - val_loss: 3175.8555 - val_root_mean_squared_error: 56.3547\n",
      "Epoch 75/100\n",
      "12/12 [==============================] - 0s 3ms/step - loss: 2615.7516 - root_mean_squared_error: 51.1163 - val_loss: 3177.6379 - val_root_mean_squared_error: 56.3705\n",
      "Epoch 76/100\n",
      "12/12 [==============================] - 0s 3ms/step - loss: 3018.6405 - root_mean_squared_error: 54.8764 - val_loss: 3167.8293 - val_root_mean_squared_error: 56.2835\n",
      "Epoch 77/100\n",
      "12/12 [==============================] - 0s 3ms/step - loss: 2819.9815 - root_mean_squared_error: 53.0757 - val_loss: 3169.7051 - val_root_mean_squared_error: 56.3001\n",
      "Epoch 78/100\n",
      "12/12 [==============================] - 0s 3ms/step - loss: 2650.3605 - root_mean_squared_error: 51.4568 - val_loss: 3159.6121 - val_root_mean_squared_error: 56.2104\n",
      "Epoch 79/100\n",
      "12/12 [==============================] - 0s 3ms/step - loss: 2574.6295 - root_mean_squared_error: 50.7322 - val_loss: 3159.3240 - val_root_mean_squared_error: 56.2079\n",
      "Epoch 80/100\n",
      "12/12 [==============================] - 0s 3ms/step - loss: 2513.2523 - root_mean_squared_error: 50.0760 - val_loss: 3157.6272 - val_root_mean_squared_error: 56.1928\n",
      "Epoch 81/100\n",
      "12/12 [==============================] - 0s 3ms/step - loss: 2677.4821 - root_mean_squared_error: 51.7367 - val_loss: 3150.7307 - val_root_mean_squared_error: 56.1314\n",
      "Epoch 82/100\n",
      "12/12 [==============================] - 0s 3ms/step - loss: 2816.6344 - root_mean_squared_error: 53.0326 - val_loss: 3148.2017 - val_root_mean_squared_error: 56.1088\n",
      "Epoch 83/100\n",
      "12/12 [==============================] - 0s 3ms/step - loss: 2606.1524 - root_mean_squared_error: 51.0261 - val_loss: 3148.4907 - val_root_mean_squared_error: 56.1114\n",
      "Epoch 84/100\n",
      "12/12 [==============================] - 0s 3ms/step - loss: 2389.9225 - root_mean_squared_error: 48.7926 - val_loss: 3145.7900 - val_root_mean_squared_error: 56.0873\n",
      "Epoch 85/100\n",
      "12/12 [==============================] - 0s 3ms/step - loss: 2356.4762 - root_mean_squared_error: 48.4129 - val_loss: 3148.3713 - val_root_mean_squared_error: 56.1103\n",
      "Epoch 86/100\n",
      "12/12 [==============================] - 0s 3ms/step - loss: 2609.7351 - root_mean_squared_error: 51.0546 - val_loss: 3150.6064 - val_root_mean_squared_error: 56.1303\n",
      "Epoch 87/100\n",
      "12/12 [==============================] - 0s 3ms/step - loss: 2737.9105 - root_mean_squared_error: 52.2903 - val_loss: 3145.0430 - val_root_mean_squared_error: 56.0807\n",
      "Epoch 88/100\n",
      "12/12 [==============================] - 0s 3ms/step - loss: 2583.1014 - root_mean_squared_error: 50.7947 - val_loss: 3144.0737 - val_root_mean_squared_error: 56.0720\n",
      "Epoch 89/100\n",
      "12/12 [==============================] - 0s 3ms/step - loss: 2738.4015 - root_mean_squared_error: 52.2731 - val_loss: 3141.5161 - val_root_mean_squared_error: 56.0492\n",
      "Epoch 90/100\n",
      "12/12 [==============================] - 0s 3ms/step - loss: 2433.4265 - root_mean_squared_error: 49.3031 - val_loss: 3140.8635 - val_root_mean_squared_error: 56.0434\n",
      "Epoch 91/100\n"
     ]
    },
    {
     "name": "stdout",
     "output_type": "stream",
     "text": [
      "12/12 [==============================] - 0s 3ms/step - loss: 2376.6995 - root_mean_squared_error: 48.6604 - val_loss: 3139.8782 - val_root_mean_squared_error: 56.0346\n",
      "Epoch 92/100\n",
      "12/12 [==============================] - 0s 3ms/step - loss: 2797.2107 - root_mean_squared_error: 52.8631 - val_loss: 3139.6030 - val_root_mean_squared_error: 56.0322\n",
      "Epoch 93/100\n",
      "12/12 [==============================] - 0s 3ms/step - loss: 2980.6630 - root_mean_squared_error: 54.4062 - val_loss: 3139.6316 - val_root_mean_squared_error: 56.0324\n",
      "Epoch 94/100\n",
      "12/12 [==============================] - 0s 3ms/step - loss: 2708.6810 - root_mean_squared_error: 52.0284 - val_loss: 3140.6992 - val_root_mean_squared_error: 56.0419\n",
      "Epoch 95/100\n",
      "12/12 [==============================] - 0s 3ms/step - loss: 3249.9281 - root_mean_squared_error: 56.6535 - val_loss: 3143.8215 - val_root_mean_squared_error: 56.0698\n",
      "Epoch 96/100\n",
      "12/12 [==============================] - 0s 3ms/step - loss: 2924.9397 - root_mean_squared_error: 54.0344 - val_loss: 3142.9072 - val_root_mean_squared_error: 56.0616\n",
      "Epoch 97/100\n",
      "12/12 [==============================] - 0s 3ms/step - loss: 2297.3917 - root_mean_squared_error: 47.8138 - val_loss: 3141.2205 - val_root_mean_squared_error: 56.0466\n",
      "Epoch 98/100\n",
      "12/12 [==============================] - 0s 3ms/step - loss: 2603.5471 - root_mean_squared_error: 51.0006 - val_loss: 3140.6111 - val_root_mean_squared_error: 56.0412\n",
      "Epoch 99/100\n",
      "12/12 [==============================] - 0s 3ms/step - loss: 2757.1057 - root_mean_squared_error: 52.4336 - val_loss: 3142.2354 - val_root_mean_squared_error: 56.0556\n",
      "Epoch 100/100\n",
      "12/12 [==============================] - 0s 3ms/step - loss: 2735.2766 - root_mean_squared_error: 52.2692 - val_loss: 3142.1282 - val_root_mean_squared_error: 56.0547\n",
      "CPU times: user 4.19 s, sys: 630 ms, total: 4.82 s\n",
      "Wall time: 3.93 s\n"
     ]
    }
   ],
   "source": [
    "%%time\n",
    "# Fit the model\n",
    "fitted_model = model.fit(\n",
    "    X_train,\n",
    "    y_train,\n",
    "    validation_split = 0.25,\n",
    "    batch_size = 20,\n",
    "    epochs = 100,\n",
    "    verbose = 1)"
   ]
  },
  {
   "cell_type": "markdown",
   "metadata": {
    "colab_type": "text",
    "id": "CR-kCu3c1Kd-"
   },
   "source": [
    "### Create predictions"
   ]
  },
  {
   "cell_type": "code",
   "execution_count": 18,
   "metadata": {
    "colab": {},
    "colab_type": "code",
    "id": "wkywKqPg1Kd-"
   },
   "outputs": [
    {
     "name": "stderr",
     "output_type": "stream",
     "text": [
      "/Users/anna_hj/opt/anaconda3/envs/IOD-deep-learning/lib/python3.9/site-packages/tensorflow/python/keras/engine/sequential.py:450: UserWarning: `model.predict_classes()` is deprecated and will be removed after 2021-01-01. Please use instead:* `np.argmax(model.predict(x), axis=-1)`,   if your model does multi-class classification   (e.g. if it uses a `softmax` last-layer activation).* `(model.predict(x) > 0.5).astype(\"int32\")`,   if your model does binary classification   (e.g. if it uses a `sigmoid` last-layer activation).\n",
      "  warnings.warn('`model.predict_classes()` is deprecated and '\n"
     ]
    }
   ],
   "source": [
    "# insert code here\n",
    "predictions = model.predict_classes(X_test)"
   ]
  },
  {
   "cell_type": "markdown",
   "metadata": {
    "colab_type": "text",
    "id": "-unEmrGo1KeA"
   },
   "source": [
    "### Evaluate the model"
   ]
  },
  {
   "cell_type": "code",
   "execution_count": 19,
   "metadata": {},
   "outputs": [
    {
     "name": "stdout",
     "output_type": "stream",
     "text": [
      "1/1 [==============================] - 0s 11ms/step - loss: 3317.5535 - root_mean_squared_error: 57.5982\n"
     ]
    }
   ],
   "source": [
    "score = model.evaluate(X_test, y_test, batch_size = 315)"
   ]
  },
  {
   "cell_type": "markdown",
   "metadata": {
    "colab_type": "text",
    "id": "sSlqjs7e1KeD"
   },
   "source": [
    "### Visualisation of cost"
   ]
  },
  {
   "cell_type": "code",
   "execution_count": 20,
   "metadata": {
    "colab": {},
    "colab_type": "code",
    "id": "1F6hYpNh1KeE",
    "scrolled": true
   },
   "outputs": [
    {
     "data": {
      "image/png": "[encoded data removed]",
      "text/plain": [
       "<Figure size 1296x432 with 2 Axes>"
      ]
     },
     "metadata": {
      "needs_background": "light"
     },
     "output_type": "display_data"
    }
   ],
   "source": [
    "# insert code here\n",
    "fig, ax = plt.subplots(1, 2, figsize = (18, 6))\n",
    "fig.subplots_adjust(left = 0.02, right = 0.98, wspace = 0.2)\n",
    "\n",
    "plt.rcParams.update({'font.size': 18})\n",
    "\n",
    "# Plot training & validation accuracy values\n",
    "ax[0].plot(fitted_model.history['root_mean_squared_error'], label = 'Training')\n",
    "ax[0].plot(fitted_model.history['val_root_mean_squared_error'], label = 'Validation')\n",
    "ax[0].set_title('Model Root MSE')\n",
    "ax[0].set_ylabel('RMSE')\n",
    "ax[0].set_xlabel('Epoch')\n",
    "ax[0].legend()\n",
    "\n",
    "# Plot training & validation loss values\n",
    "ax[1].plot(fitted_model.history['loss'], label = 'Training')\n",
    "ax[1].plot(fitted_model.history['val_loss'], label = 'Validation')\n",
    "ax[1].set_title('Model loss')\n",
    "ax[1].set_ylabel('Loss')\n",
    "ax[1].set_xlabel('Epoch')\n",
    "ax[1].legend()\n",
    "\n",
    "plt.show()"
   ]
  },
  {
   "cell_type": "markdown",
   "metadata": {
    "colab_type": "text",
    "id": "vQLzMZTM1KeG"
   },
   "source": [
    "### Visualisation of residuals"
   ]
  },
  {
   "cell_type": "code",
   "execution_count": 22,
   "metadata": {
    "colab": {},
    "colab_type": "code",
    "id": "opIulVSw1KeH"
   },
   "outputs": [
    {
     "data": {
      "text/plain": [
       "<AxesSubplot:>"
      ]
     },
     "execution_count": 22,
     "metadata": {},
     "output_type": "execute_result"
    },
    {
     "data": {
      "image/png": "[encoded data removed]",
      "text/plain": [
       "<Figure size 432x288 with 1 Axes>"
      ]
     },
     "metadata": {
      "needs_background": "light"
     },
     "output_type": "display_data"
    }
   ],
   "source": [
    "# insert code here\n",
    "predictions = predictions.flatten()\n",
    "resid = []\n",
    "for pred, actual in zip(predictions,y_test):\n",
    "    resid.append(pred-actual)\n",
    "sns.regplot(x=np.arange(133),y=resid)"
   ]
  },
  {
   "cell_type": "markdown",
   "metadata": {
    "colab_type": "text",
    "id": "RERADKgNFq9T"
   },
   "source": [
    "© 2020 Institute of Data"
   ]
  }
 ],
 "metadata": {
  "colab": {
   "collapsed_sections": [],
   "name": "DSIA Lab-10_1.ipynb",
   "provenance": []
  },
  "kernelspec": {
   "display_name": "Python 3 (ipykernel)",
   "language": "python",
   "name": "python3"
  },
  "language_info": {
   "codemirror_mode": {
    "name": "ipython",
    "version": 3
   },
   "file_extension": ".py",
   "mimetype": "text/x-python",
   "name": "python",
   "nbconvert_exporter": "python",
   "pygments_lexer": "ipython3",
   "version": "3.9.0"
  },
  "toc": {
   "base_numbering": 1,
   "nav_menu": {},
   "number_sections": true,
   "sideBar": true,
   "skip_h1_title": false,
   "title_cell": "Table of Contents",
   "title_sidebar": "Contents",
   "toc_cell": false,
   "toc_position": {},
   "toc_section_display": true,
   "toc_window_display": true
  }
 },
 "nbformat": 4,
 "nbformat_minor": 1
}
