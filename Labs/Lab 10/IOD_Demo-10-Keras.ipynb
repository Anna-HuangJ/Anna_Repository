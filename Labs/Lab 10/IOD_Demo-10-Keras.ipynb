{
 "cells": [
  {
   "cell_type": "markdown",
   "metadata": {
    "colab_type": "text",
    "id": "26KthBFty-QG"
   },
   "source": [
    "<div>\n",
    "<img src=https://www.institutedata.com/wp-content/uploads/2019/10/iod_h_tp_primary_c.svg width=\"300\">\n",
    "</div>"
   ]
  },
  {
   "cell_type": "markdown",
   "metadata": {
    "colab_type": "text",
    "id": "W5NydEUxy-QJ"
   },
   "source": [
    "# Demo: NN with Keras"
   ]
  },
  {
   "cell_type": "markdown",
   "metadata": {
    "colab_type": "text",
    "id": "9n746euhy-QN"
   },
   "source": [
    "## Written digits classification with Keras"
   ]
  },
  {
   "cell_type": "code",
   "execution_count": 1,
   "metadata": {
    "ExecuteTime": {
     "end_time": "2021-02-27T02:48:27.591043Z",
     "start_time": "2021-02-27T02:48:21.529994Z"
    },
    "colab": {
     "base_uri": "https://localhost:8080/",
     "height": 34
    },
    "colab_type": "code",
    "executionInfo": {
     "elapsed": 2928,
     "status": "ok",
     "timestamp": 1592824749653,
     "user": {
      "displayName": "Mai Anh Ly",
      "photoUrl": "https://lh3.googleusercontent.com/a-/AOh14Gj3m3ePWBwBFT7szOlaK8W7lylc_ZnY93J_HKbY5EYiLuSsLy7FtOhGAmfpk-co2FX3NdvOSoUHAjcKyRo5fYAxzXGwBuB_Scz8EEoI0Sd99Sg0jA2hPKbGGL6l3OXXH3RcebQAVwm8daKZ2HaryKtOGaYPEs9Xm4WwmZilYvP12BkymjKBBw7wXJMbb_FMuYXiSJ7kmY0DWt455ZoAKqVSJa8qwbs2DTI_8qb-mnSxDEsvUDfWP5HYXMJ0-_ZkGM3e4Ar7WqqeTz_ra4LyeKayfg3WeqVtxylbHQIDlD2SoYjxZBk1F9dK1eYMhV9norQqhOu7Vd-ye50GdIbvJT8-QvhH3mj6uskBTzXPrA1fEo302QbdbXAVY3r8PvhwuUw4aJtvHHsk37YZNZ36XzswOyKGtKP7YQr9nItYSOQ8ZmWzlJojcN0uHH1RFCoshmE-ncc5Vf8-0LXicZIQp4x8HCIVH93zt4_P9E3PyrYf5mw9oOzmxcBIX3u9yuRv_K3-XV9oUJTZRFCBOqP3phE4KUy_Hwn2ZSv0cfUiuFz5XpPAjvO6hYAsZTayx4_Tr-REFcps30D5U05ItXMetcHTu4JM9Yvg624ZAgWv6NZ526HoOcOja57kG4pX8lmBpLnL6r9bb7PolwB2hpZuZ1Ma4wzL6EG3xNS9VJzMmyN0nZTqf_05jxnnn0wsvqcUAhRqK9PbPxfieRzYPTE20QrMG6gxUrSZ9PDWIMEm5YAYgZb7dZU7_k51mccLXc2mEA=s64",
      "userId": "16059923818223643809"
     },
     "user_tz": -600
    },
    "id": "hJgb9UC1y-QQ",
    "outputId": "a21eacbd-ae6c-4e7d-dd78-d9ea165fbbb9"
   },
   "outputs": [],
   "source": [
    "## Import libraries\n",
    "import numpy as np\n",
    "\n",
    "%matplotlib inline\n",
    "import matplotlib.pyplot as plt\n",
    "\n",
    "from sklearn.datasets import load_digits\n",
    "from sklearn.metrics import confusion_matrix\n",
    "from sklearn.model_selection import train_test_split\n",
    "\n",
    "# import keras\n",
    "# conda install -c conda-forge keras\n",
    "from keras.models import Sequential\n",
    "from keras.layers import Dense\n",
    "from keras.utils import to_categorical"
   ]
  },
  {
   "cell_type": "code",
   "execution_count": 2,
   "metadata": {
    "ExecuteTime": {
     "end_time": "2021-02-27T02:48:27.681453Z",
     "start_time": "2021-02-27T02:48:27.593543Z"
    },
    "colab": {},
    "colab_type": "code",
    "executionInfo": {
     "elapsed": 901,
     "status": "ok",
     "timestamp": 1592824751760,
     "user": {
      "displayName": "Mai Anh Ly",
      "photoUrl": "https://lh3.googleusercontent.com/a-/AOh14Gj3m3ePWBwBFT7szOlaK8W7lylc_ZnY93J_HKbY5EYiLuSsLy7FtOhGAmfpk-co2FX3NdvOSoUHAjcKyRo5fYAxzXGwBuB_Scz8EEoI0Sd99Sg0jA2hPKbGGL6l3OXXH3RcebQAVwm8daKZ2HaryKtOGaYPEs9Xm4WwmZilYvP12BkymjKBBw7wXJMbb_FMuYXiSJ7kmY0DWt455ZoAKqVSJa8qwbs2DTI_8qb-mnSxDEsvUDfWP5HYXMJ0-_ZkGM3e4Ar7WqqeTz_ra4LyeKayfg3WeqVtxylbHQIDlD2SoYjxZBk1F9dK1eYMhV9norQqhOu7Vd-ye50GdIbvJT8-QvhH3mj6uskBTzXPrA1fEo302QbdbXAVY3r8PvhwuUw4aJtvHHsk37YZNZ36XzswOyKGtKP7YQr9nItYSOQ8ZmWzlJojcN0uHH1RFCoshmE-ncc5Vf8-0LXicZIQp4x8HCIVH93zt4_P9E3PyrYf5mw9oOzmxcBIX3u9yuRv_K3-XV9oUJTZRFCBOqP3phE4KUy_Hwn2ZSv0cfUiuFz5XpPAjvO6hYAsZTayx4_Tr-REFcps30D5U05ItXMetcHTu4JM9Yvg624ZAgWv6NZ526HoOcOja57kG4pX8lmBpLnL6r9bb7PolwB2hpZuZ1Ma4wzL6EG3xNS9VJzMmyN0nZTqf_05jxnnn0wsvqcUAhRqK9PbPxfieRzYPTE20QrMG6gxUrSZ9PDWIMEm5YAYgZb7dZU7_k51mccLXc2mEA=s64",
      "userId": "16059923818223643809"
     },
     "user_tz": -600
    },
    "id": "0tQuyTyyy-QZ"
   },
   "outputs": [],
   "source": [
    "# The digits dataset\n",
    "digits = load_digits()"
   ]
  },
  {
   "cell_type": "code",
   "execution_count": 3,
   "metadata": {
    "ExecuteTime": {
     "end_time": "2021-02-27T02:48:27.689832Z",
     "start_time": "2021-02-27T02:48:27.685838Z"
    },
    "colab": {
     "base_uri": "https://localhost:8080/",
     "height": 826
    },
    "colab_type": "code",
    "executionInfo": {
     "elapsed": 937,
     "status": "ok",
     "timestamp": 1592824754743,
     "user": {
      "displayName": "Mai Anh Ly",
      "photoUrl": "https://lh3.googleusercontent.com/a-/AOh14Gj3m3ePWBwBFT7szOlaK8W7lylc_ZnY93J_HKbY5EYiLuSsLy7FtOhGAmfpk-co2FX3NdvOSoUHAjcKyRo5fYAxzXGwBuB_Scz8EEoI0Sd99Sg0jA2hPKbGGL6l3OXXH3RcebQAVwm8daKZ2HaryKtOGaYPEs9Xm4WwmZilYvP12BkymjKBBw7wXJMbb_FMuYXiSJ7kmY0DWt455ZoAKqVSJa8qwbs2DTI_8qb-mnSxDEsvUDfWP5HYXMJ0-_ZkGM3e4Ar7WqqeTz_ra4LyeKayfg3WeqVtxylbHQIDlD2SoYjxZBk1F9dK1eYMhV9norQqhOu7Vd-ye50GdIbvJT8-QvhH3mj6uskBTzXPrA1fEo302QbdbXAVY3r8PvhwuUw4aJtvHHsk37YZNZ36XzswOyKGtKP7YQr9nItYSOQ8ZmWzlJojcN0uHH1RFCoshmE-ncc5Vf8-0LXicZIQp4x8HCIVH93zt4_P9E3PyrYf5mw9oOzmxcBIX3u9yuRv_K3-XV9oUJTZRFCBOqP3phE4KUy_Hwn2ZSv0cfUiuFz5XpPAjvO6hYAsZTayx4_Tr-REFcps30D5U05ItXMetcHTu4JM9Yvg624ZAgWv6NZ526HoOcOja57kG4pX8lmBpLnL6r9bb7PolwB2hpZuZ1Ma4wzL6EG3xNS9VJzMmyN0nZTqf_05jxnnn0wsvqcUAhRqK9PbPxfieRzYPTE20QrMG6gxUrSZ9PDWIMEm5YAYgZb7dZU7_k51mccLXc2mEA=s64",
      "userId": "16059923818223643809"
     },
     "user_tz": -600
    },
    "id": "Zn2DiwPXy-Qd",
    "outputId": "35034698-a503-4771-8176-a6a24a2aa06d"
   },
   "outputs": [
    {
     "name": "stdout",
     "output_type": "stream",
     "text": [
      ".. _digits_dataset:\n",
      "\n",
      "Optical recognition of handwritten digits dataset\n",
      "--------------------------------------------------\n",
      "\n",
      "**Data Set Characteristics:**\n",
      "\n",
      "    :Number of Instances: 1797\n",
      "    :Number of Attributes: 64\n",
      "    :Attribute Information: 8x8 image of integer pixels in the range 0..16.\n",
      "    :Missing Attribute Values: None\n",
      "    :Creator: E. Alpaydin (alpaydin '@' boun.edu.tr)\n",
      "    :Date: July; 1998\n",
      "\n",
      "This is a copy of the test set of the UCI ML hand-written digits datasets\n",
      "https://archive.ics.uci.edu/ml/datasets/Optical+Recognition+of+Handwritten+Digits\n",
      "\n",
      "The data set contains images of hand-written digits: 10 classes where\n",
      "each class refers to a digit.\n",
      "\n",
      "Preprocessing programs made available by NIST were used to extract\n",
      "normalized bitmaps of handwritten digits from a preprinted form. From a\n",
      "total of 43 people, 30 contributed to the training set and different 13\n",
      "to the test set. 32x32 bitmaps are divided into nonoverlapping blocks of\n",
      "4x4 and the number of on pixels are counted in each block. This generates\n",
      "an input matrix of 8x8 where each element is an integer in the range\n",
      "0..16. This reduces dimensionality and gives invariance to small\n",
      "distortions.\n",
      "\n",
      "For info on NIST preprocessing routines, see M. D. Garris, J. L. Blue, G.\n",
      "T. Candela, D. L. Dimmick, J. Geist, P. J. Grother, S. A. Janet, and C.\n",
      "L. Wilson, NIST Form-Based Handprint Recognition System, NISTIR 5469,\n",
      "1994.\n",
      "\n",
      ".. topic:: References\n",
      "\n",
      "  - C. Kaynak (1995) Methods of Combining Multiple Classifiers and Their\n",
      "    Applications to Handwritten Digit Recognition, MSc Thesis, Institute of\n",
      "    Graduate Studies in Science and Engineering, Bogazici University.\n",
      "  - E. Alpaydin, C. Kaynak (1998) Cascading Classifiers, Kybernetika.\n",
      "  - Ken Tang and Ponnuthurai N. Suganthan and Xi Yao and A. Kai Qin.\n",
      "    Linear dimensionalityreduction using relevance weighted LDA. School of\n",
      "    Electrical and Electronic Engineering Nanyang Technological University.\n",
      "    2005.\n",
      "  - Claudio Gentile. A New Approximate Maximal Margin Classification\n",
      "    Algorithm. NIPS. 2000.\n",
      "\n"
     ]
    }
   ],
   "source": [
    "print(digits.DESCR)"
   ]
  },
  {
   "cell_type": "code",
   "execution_count": 4,
   "metadata": {
    "ExecuteTime": {
     "end_time": "2021-02-27T02:48:27.794300Z",
     "start_time": "2021-02-27T02:48:27.693476Z"
    },
    "colab": {
     "base_uri": "https://localhost:8080/",
     "height": 147
    },
    "colab_type": "code",
    "executionInfo": {
     "elapsed": 670,
     "status": "ok",
     "timestamp": 1560987197507,
     "user": {
      "displayName": "Ibrahim Faisal",
      "photoUrl": "https://lh3.googleusercontent.com/-67DMczu7rgM/AAAAAAAAAAI/AAAAAAAAAAc/6f5FCnBgxFs/s64/photo.jpg",
      "userId": "02685917636347920688"
     },
     "user_tz": -600
    },
    "id": "oi5lOrDYy-Qh",
    "outputId": "2efb7206-c6e1-4070-d8f5-57b76ffeea7c"
   },
   "outputs": [
    {
     "data": {
      "image/png": "[encoded data removed]",
      "text/plain": [
       "<Figure size 144x144 with 1 Axes>"
      ]
     },
     "metadata": {},
     "output_type": "display_data"
    }
   ],
   "source": [
    "id = np.random.randint(len(digits.target))\n",
    "plt.figure(figsize = (2, 2))\n",
    "plt.imshow(digits.images[id], cmap = 'gray')\n",
    "plt.xticks([])\n",
    "plt.yticks([])\n",
    "plt.show()"
   ]
  },
  {
   "cell_type": "code",
   "execution_count": 5,
   "metadata": {
    "ExecuteTime": {
     "end_time": "2021-02-27T02:48:27.824442Z",
     "start_time": "2021-02-27T02:48:27.816639Z"
    },
    "colab": {},
    "colab_type": "code",
    "executionInfo": {
     "elapsed": 1271,
     "status": "ok",
     "timestamp": 1592825423538,
     "user": {
      "displayName": "Mai Anh Ly",
      "photoUrl": "https://lh3.googleusercontent.com/a-/AOh14Gj3m3ePWBwBFT7szOlaK8W7lylc_ZnY93J_HKbY5EYiLuSsLy7FtOhGAmfpk-co2FX3NdvOSoUHAjcKyRo5fYAxzXGwBuB_Scz8EEoI0Sd99Sg0jA2hPKbGGL6l3OXXH3RcebQAVwm8daKZ2HaryKtOGaYPEs9Xm4WwmZilYvP12BkymjKBBw7wXJMbb_FMuYXiSJ7kmY0DWt455ZoAKqVSJa8qwbs2DTI_8qb-mnSxDEsvUDfWP5HYXMJ0-_ZkGM3e4Ar7WqqeTz_ra4LyeKayfg3WeqVtxylbHQIDlD2SoYjxZBk1F9dK1eYMhV9norQqhOu7Vd-ye50GdIbvJT8-QvhH3mj6uskBTzXPrA1fEo302QbdbXAVY3r8PvhwuUw4aJtvHHsk37YZNZ36XzswOyKGtKP7YQr9nItYSOQ8ZmWzlJojcN0uHH1RFCoshmE-ncc5Vf8-0LXicZIQp4x8HCIVH93zt4_P9E3PyrYf5mw9oOzmxcBIX3u9yuRv_K3-XV9oUJTZRFCBOqP3phE4KUy_Hwn2ZSv0cfUiuFz5XpPAjvO6hYAsZTayx4_Tr-REFcps30D5U05ItXMetcHTu4JM9Yvg624ZAgWv6NZ526HoOcOja57kG4pX8lmBpLnL6r9bb7PolwB2hpZuZ1Ma4wzL6EG3xNS9VJzMmyN0nZTqf_05jxnnn0wsvqcUAhRqK9PbPxfieRzYPTE20QrMG6gxUrSZ9PDWIMEm5YAYgZb7dZU7_k51mccLXc2mEA=s64",
      "userId": "16059923818223643809"
     },
     "user_tz": -600
    },
    "id": "k-Wu4bQJy-Ql"
   },
   "outputs": [],
   "source": [
    "# Prepare input data\n",
    "# input\n",
    "X = digits.data.astype(np.uint8)\n",
    "n_cols = X.shape[1]\n",
    "\n",
    "# output\n",
    "target = digits.target.astype(np.uint8)\n",
    "\n",
    "# Convert the target to categorical\n",
    "y = to_categorical(\n",
    "    target,\n",
    "    num_classes = len(set(target)),\n",
    "    dtype = 'uint8')"
   ]
  },
  {
   "cell_type": "code",
   "execution_count": 6,
   "metadata": {
    "ExecuteTime": {
     "end_time": "2021-02-27T02:48:27.838169Z",
     "start_time": "2021-02-27T02:48:27.831111Z"
    },
    "colab": {},
    "colab_type": "code",
    "executionInfo": {
     "elapsed": 1444,
     "status": "ok",
     "timestamp": 1592825427410,
     "user": {
      "displayName": "Mai Anh Ly",
      "photoUrl": "https://lh3.googleusercontent.com/a-/AOh14Gj3m3ePWBwBFT7szOlaK8W7lylc_ZnY93J_HKbY5EYiLuSsLy7FtOhGAmfpk-co2FX3NdvOSoUHAjcKyRo5fYAxzXGwBuB_Scz8EEoI0Sd99Sg0jA2hPKbGGL6l3OXXH3RcebQAVwm8daKZ2HaryKtOGaYPEs9Xm4WwmZilYvP12BkymjKBBw7wXJMbb_FMuYXiSJ7kmY0DWt455ZoAKqVSJa8qwbs2DTI_8qb-mnSxDEsvUDfWP5HYXMJ0-_ZkGM3e4Ar7WqqeTz_ra4LyeKayfg3WeqVtxylbHQIDlD2SoYjxZBk1F9dK1eYMhV9norQqhOu7Vd-ye50GdIbvJT8-QvhH3mj6uskBTzXPrA1fEo302QbdbXAVY3r8PvhwuUw4aJtvHHsk37YZNZ36XzswOyKGtKP7YQr9nItYSOQ8ZmWzlJojcN0uHH1RFCoshmE-ncc5Vf8-0LXicZIQp4x8HCIVH93zt4_P9E3PyrYf5mw9oOzmxcBIX3u9yuRv_K3-XV9oUJTZRFCBOqP3phE4KUy_Hwn2ZSv0cfUiuFz5XpPAjvO6hYAsZTayx4_Tr-REFcps30D5U05ItXMetcHTu4JM9Yvg624ZAgWv6NZ526HoOcOja57kG4pX8lmBpLnL6r9bb7PolwB2hpZuZ1Ma4wzL6EG3xNS9VJzMmyN0nZTqf_05jxnnn0wsvqcUAhRqK9PbPxfieRzYPTE20QrMG6gxUrSZ9PDWIMEm5YAYgZb7dZU7_k51mccLXc2mEA=s64",
      "userId": "16059923818223643809"
     },
     "user_tz": -600
    },
    "id": "nBFFtaWcy-Qo"
   },
   "outputs": [],
   "source": [
    "X_train, X_test, y_train, y_test = train_test_split(\n",
    "    X, y, \n",
    "    test_size = 0.3,\n",
    "    random_state = 65)"
   ]
  },
  {
   "cell_type": "code",
   "execution_count": 7,
   "metadata": {
    "ExecuteTime": {
     "end_time": "2021-02-27T02:48:27.864653Z",
     "start_time": "2021-02-27T02:48:27.842472Z"
    },
    "colab": {},
    "colab_type": "code",
    "executionInfo": {
     "elapsed": 975,
     "status": "ok",
     "timestamp": 1592825430124,
     "user": {
      "displayName": "Mai Anh Ly",
      "photoUrl": "https://lh3.googleusercontent.com/a-/AOh14Gj3m3ePWBwBFT7szOlaK8W7lylc_ZnY93J_HKbY5EYiLuSsLy7FtOhGAmfpk-co2FX3NdvOSoUHAjcKyRo5fYAxzXGwBuB_Scz8EEoI0Sd99Sg0jA2hPKbGGL6l3OXXH3RcebQAVwm8daKZ2HaryKtOGaYPEs9Xm4WwmZilYvP12BkymjKBBw7wXJMbb_FMuYXiSJ7kmY0DWt455ZoAKqVSJa8qwbs2DTI_8qb-mnSxDEsvUDfWP5HYXMJ0-_ZkGM3e4Ar7WqqeTz_ra4LyeKayfg3WeqVtxylbHQIDlD2SoYjxZBk1F9dK1eYMhV9norQqhOu7Vd-ye50GdIbvJT8-QvhH3mj6uskBTzXPrA1fEo302QbdbXAVY3r8PvhwuUw4aJtvHHsk37YZNZ36XzswOyKGtKP7YQr9nItYSOQ8ZmWzlJojcN0uHH1RFCoshmE-ncc5Vf8-0LXicZIQp4x8HCIVH93zt4_P9E3PyrYf5mw9oOzmxcBIX3u9yuRv_K3-XV9oUJTZRFCBOqP3phE4KUy_Hwn2ZSv0cfUiuFz5XpPAjvO6hYAsZTayx4_Tr-REFcps30D5U05ItXMetcHTu4JM9Yvg624ZAgWv6NZ526HoOcOja57kG4pX8lmBpLnL6r9bb7PolwB2hpZuZ1Ma4wzL6EG3xNS9VJzMmyN0nZTqf_05jxnnn0wsvqcUAhRqK9PbPxfieRzYPTE20QrMG6gxUrSZ9PDWIMEm5YAYgZb7dZU7_k51mccLXc2mEA=s64",
      "userId": "16059923818223643809"
     },
     "user_tz": -600
    },
    "id": "aKrm9Miqy-Qq"
   },
   "outputs": [
    {
     "name": "stderr",
     "output_type": "stream",
     "text": [
      "2022-02-10 19:45:12.733458: I tensorflow/core/platform/cpu_feature_guard.cc:142] This TensorFlow binary is optimized with oneAPI Deep Neural Network Library (oneDNN) to use the following CPU instructions in performance-critical operations:  SSE4.1 SSE4.2\n",
      "To enable them in other operations, rebuild TensorFlow with the appropriate compiler flags.\n"
     ]
    }
   ],
   "source": [
    "# Set up the model architecture\n",
    "model = Sequential()"
   ]
  },
  {
   "cell_type": "code",
   "execution_count": 8,
   "metadata": {
    "ExecuteTime": {
     "end_time": "2021-02-27T02:48:27.874098Z",
     "start_time": "2021-02-27T02:48:27.868579Z"
    }
   },
   "outputs": [],
   "source": [
    "n_cols = len(X[0])"
   ]
  },
  {
   "cell_type": "code",
   "execution_count": 9,
   "metadata": {
    "ExecuteTime": {
     "end_time": "2021-02-27T02:48:27.960726Z",
     "start_time": "2021-02-27T02:48:27.878761Z"
    },
    "colab": {},
    "colab_type": "code",
    "executionInfo": {
     "elapsed": 8152,
     "status": "ok",
     "timestamp": 1592825439616,
     "user": {
      "displayName": "Mai Anh Ly",
      "photoUrl": "https://lh3.googleusercontent.com/a-/AOh14Gj3m3ePWBwBFT7szOlaK8W7lylc_ZnY93J_HKbY5EYiLuSsLy7FtOhGAmfpk-co2FX3NdvOSoUHAjcKyRo5fYAxzXGwBuB_Scz8EEoI0Sd99Sg0jA2hPKbGGL6l3OXXH3RcebQAVwm8daKZ2HaryKtOGaYPEs9Xm4WwmZilYvP12BkymjKBBw7wXJMbb_FMuYXiSJ7kmY0DWt455ZoAKqVSJa8qwbs2DTI_8qb-mnSxDEsvUDfWP5HYXMJ0-_ZkGM3e4Ar7WqqeTz_ra4LyeKayfg3WeqVtxylbHQIDlD2SoYjxZBk1F9dK1eYMhV9norQqhOu7Vd-ye50GdIbvJT8-QvhH3mj6uskBTzXPrA1fEo302QbdbXAVY3r8PvhwuUw4aJtvHHsk37YZNZ36XzswOyKGtKP7YQr9nItYSOQ8ZmWzlJojcN0uHH1RFCoshmE-ncc5Vf8-0LXicZIQp4x8HCIVH93zt4_P9E3PyrYf5mw9oOzmxcBIX3u9yuRv_K3-XV9oUJTZRFCBOqP3phE4KUy_Hwn2ZSv0cfUiuFz5XpPAjvO6hYAsZTayx4_Tr-REFcps30D5U05ItXMetcHTu4JM9Yvg624ZAgWv6NZ526HoOcOja57kG4pX8lmBpLnL6r9bb7PolwB2hpZuZ1Ma4wzL6EG3xNS9VJzMmyN0nZTqf_05jxnnn0wsvqcUAhRqK9PbPxfieRzYPTE20QrMG6gxUrSZ9PDWIMEm5YAYgZb7dZU7_k51mccLXc2mEA=s64",
      "userId": "16059923818223643809"
     },
     "user_tz": -600
    },
    "id": "KC9AVmkFy-Qr"
   },
   "outputs": [],
   "source": [
    "# Add the first hidden layer\n",
    "model.add(Dense(100, activation = 'relu', input_shape = (n_cols, )))\n",
    "# Add the second hidden layer\n",
    "model.add(Dense(50, activation = 'relu'))\n",
    "\n",
    "# Add the output layer\n",
    "model.add(Dense(10, activation = 'softmax'))"
   ]
  },
  {
   "cell_type": "code",
   "execution_count": 10,
   "metadata": {
    "ExecuteTime": {
     "end_time": "2021-02-27T02:48:27.970327Z",
     "start_time": "2021-02-27T02:48:27.963769Z"
    },
    "colab": {
     "base_uri": "https://localhost:8080/",
     "height": 281
    },
    "colab_type": "code",
    "executionInfo": {
     "elapsed": 3737,
     "status": "ok",
     "timestamp": 1592825439619,
     "user": {
      "displayName": "Mai Anh Ly",
      "photoUrl": "https://lh3.googleusercontent.com/a-/AOh14Gj3m3ePWBwBFT7szOlaK8W7lylc_ZnY93J_HKbY5EYiLuSsLy7FtOhGAmfpk-co2FX3NdvOSoUHAjcKyRo5fYAxzXGwBuB_Scz8EEoI0Sd99Sg0jA2hPKbGGL6l3OXXH3RcebQAVwm8daKZ2HaryKtOGaYPEs9Xm4WwmZilYvP12BkymjKBBw7wXJMbb_FMuYXiSJ7kmY0DWt455ZoAKqVSJa8qwbs2DTI_8qb-mnSxDEsvUDfWP5HYXMJ0-_ZkGM3e4Ar7WqqeTz_ra4LyeKayfg3WeqVtxylbHQIDlD2SoYjxZBk1F9dK1eYMhV9norQqhOu7Vd-ye50GdIbvJT8-QvhH3mj6uskBTzXPrA1fEo302QbdbXAVY3r8PvhwuUw4aJtvHHsk37YZNZ36XzswOyKGtKP7YQr9nItYSOQ8ZmWzlJojcN0uHH1RFCoshmE-ncc5Vf8-0LXicZIQp4x8HCIVH93zt4_P9E3PyrYf5mw9oOzmxcBIX3u9yuRv_K3-XV9oUJTZRFCBOqP3phE4KUy_Hwn2ZSv0cfUiuFz5XpPAjvO6hYAsZTayx4_Tr-REFcps30D5U05ItXMetcHTu4JM9Yvg624ZAgWv6NZ526HoOcOja57kG4pX8lmBpLnL6r9bb7PolwB2hpZuZ1Ma4wzL6EG3xNS9VJzMmyN0nZTqf_05jxnnn0wsvqcUAhRqK9PbPxfieRzYPTE20QrMG6gxUrSZ9PDWIMEm5YAYgZb7dZU7_k51mccLXc2mEA=s64",
      "userId": "16059923818223643809"
     },
     "user_tz": -600
    },
    "id": "05KgUEX8y-Qt",
    "outputId": "eb02ea89-956b-466a-913f-3904294686b4"
   },
   "outputs": [
    {
     "name": "stdout",
     "output_type": "stream",
     "text": [
      "Model: \"sequential\"\n",
      "_________________________________________________________________\n",
      "Layer (type)                 Output Shape              Param #   \n",
      "=================================================================\n",
      "dense (Dense)                (None, 100)               6500      \n",
      "_________________________________________________________________\n",
      "dense_1 (Dense)              (None, 50)                5050      \n",
      "_________________________________________________________________\n",
      "dense_2 (Dense)              (None, 10)                510       \n",
      "=================================================================\n",
      "Total params: 12,060\n",
      "Trainable params: 12,060\n",
      "Non-trainable params: 0\n",
      "_________________________________________________________________\n",
      "None\n"
     ]
    }
   ],
   "source": [
    "print(model.summary())"
   ]
  },
  {
   "cell_type": "code",
   "execution_count": 11,
   "metadata": {
    "ExecuteTime": {
     "end_time": "2021-02-27T02:48:27.976475Z",
     "start_time": "2021-02-27T02:48:27.974248Z"
    }
   },
   "outputs": [],
   "source": [
    "# 64 attributes x 100 nodes (1st hidden layer) + 100 constant = 6500\n",
    "# 100 nodes (1st hidden layer) x 50 nodes (2nd hidden layer) + 50 constants = 5050\n",
    "# 50 (2nd hidden layer) x 10 nodes (Output layer) + 10 constants = 510\n",
    "# 6500 + 5050 + 510 = 12,060"
   ]
  },
  {
   "cell_type": "code",
   "execution_count": 12,
   "metadata": {
    "ExecuteTime": {
     "end_time": "2021-02-27T02:48:28.056763Z",
     "start_time": "2021-02-27T02:48:27.979981Z"
    },
    "colab": {},
    "colab_type": "code",
    "executionInfo": {
     "elapsed": 893,
     "status": "ok",
     "timestamp": 1592825442955,
     "user": {
      "displayName": "Mai Anh Ly",
      "photoUrl": "https://lh3.googleusercontent.com/a-/AOh14Gj3m3ePWBwBFT7szOlaK8W7lylc_ZnY93J_HKbY5EYiLuSsLy7FtOhGAmfpk-co2FX3NdvOSoUHAjcKyRo5fYAxzXGwBuB_Scz8EEoI0Sd99Sg0jA2hPKbGGL6l3OXXH3RcebQAVwm8daKZ2HaryKtOGaYPEs9Xm4WwmZilYvP12BkymjKBBw7wXJMbb_FMuYXiSJ7kmY0DWt455ZoAKqVSJa8qwbs2DTI_8qb-mnSxDEsvUDfWP5HYXMJ0-_ZkGM3e4Ar7WqqeTz_ra4LyeKayfg3WeqVtxylbHQIDlD2SoYjxZBk1F9dK1eYMhV9norQqhOu7Vd-ye50GdIbvJT8-QvhH3mj6uskBTzXPrA1fEo302QbdbXAVY3r8PvhwuUw4aJtvHHsk37YZNZ36XzswOyKGtKP7YQr9nItYSOQ8ZmWzlJojcN0uHH1RFCoshmE-ncc5Vf8-0LXicZIQp4x8HCIVH93zt4_P9E3PyrYf5mw9oOzmxcBIX3u9yuRv_K3-XV9oUJTZRFCBOqP3phE4KUy_Hwn2ZSv0cfUiuFz5XpPAjvO6hYAsZTayx4_Tr-REFcps30D5U05ItXMetcHTu4JM9Yvg624ZAgWv6NZ526HoOcOja57kG4pX8lmBpLnL6r9bb7PolwB2hpZuZ1Ma4wzL6EG3xNS9VJzMmyN0nZTqf_05jxnnn0wsvqcUAhRqK9PbPxfieRzYPTE20QrMG6gxUrSZ9PDWIMEm5YAYgZb7dZU7_k51mccLXc2mEA=s64",
      "userId": "16059923818223643809"
     },
     "user_tz": -600
    },
    "id": "4eu9O-5Xy-Qv"
   },
   "outputs": [],
   "source": [
    "# Compile the model\n",
    "model.compile(\n",
    "    optimizer = 'sgd',\n",
    "    loss = 'categorical_crossentropy',\n",
    "    metrics = ['accuracy'])"
   ]
  },
  {
   "cell_type": "code",
   "execution_count": 13,
   "metadata": {
    "ExecuteTime": {
     "end_time": "2021-02-27T02:48:34.285182Z",
     "start_time": "2021-02-27T02:48:28.060022Z"
    },
    "colab": {
     "base_uri": "https://localhost:8080/",
     "height": 1000
    },
    "colab_type": "code",
    "executionInfo": {
     "elapsed": 20827,
     "status": "ok",
     "timestamp": 1592825467331,
     "user": {
      "displayName": "Mai Anh Ly",
      "photoUrl": "https://lh3.googleusercontent.com/a-/AOh14Gj3m3ePWBwBFT7szOlaK8W7lylc_ZnY93J_HKbY5EYiLuSsLy7FtOhGAmfpk-co2FX3NdvOSoUHAjcKyRo5fYAxzXGwBuB_Scz8EEoI0Sd99Sg0jA2hPKbGGL6l3OXXH3RcebQAVwm8daKZ2HaryKtOGaYPEs9Xm4WwmZilYvP12BkymjKBBw7wXJMbb_FMuYXiSJ7kmY0DWt455ZoAKqVSJa8qwbs2DTI_8qb-mnSxDEsvUDfWP5HYXMJ0-_ZkGM3e4Ar7WqqeTz_ra4LyeKayfg3WeqVtxylbHQIDlD2SoYjxZBk1F9dK1eYMhV9norQqhOu7Vd-ye50GdIbvJT8-QvhH3mj6uskBTzXPrA1fEo302QbdbXAVY3r8PvhwuUw4aJtvHHsk37YZNZ36XzswOyKGtKP7YQr9nItYSOQ8ZmWzlJojcN0uHH1RFCoshmE-ncc5Vf8-0LXicZIQp4x8HCIVH93zt4_P9E3PyrYf5mw9oOzmxcBIX3u9yuRv_K3-XV9oUJTZRFCBOqP3phE4KUy_Hwn2ZSv0cfUiuFz5XpPAjvO6hYAsZTayx4_Tr-REFcps30D5U05ItXMetcHTu4JM9Yvg624ZAgWv6NZ526HoOcOja57kG4pX8lmBpLnL6r9bb7PolwB2hpZuZ1Ma4wzL6EG3xNS9VJzMmyN0nZTqf_05jxnnn0wsvqcUAhRqK9PbPxfieRzYPTE20QrMG6gxUrSZ9PDWIMEm5YAYgZb7dZU7_k51mccLXc2mEA=s64",
      "userId": "16059923818223643809"
     },
     "user_tz": -600
    },
    "id": "DSnIhJ0My-Qw",
    "outputId": "26c418d2-14a1-43b2-de47-f64e320dbcb9",
    "scrolled": false
   },
   "outputs": [
    {
     "name": "stdout",
     "output_type": "stream",
     "text": [
      "Epoch 1/100\n"
     ]
    },
    {
     "name": "stderr",
     "output_type": "stream",
     "text": [
      "2022-02-10 19:45:12.812829: I tensorflow/compiler/mlir/mlir_graph_optimization_pass.cc:116] None of the MLIR optimization passes are enabled (registered 2)\n"
     ]
    },
    {
     "name": "stdout",
     "output_type": "stream",
     "text": [
      "48/48 [==============================] - 1s 10ms/step - loss: 2.4760 - accuracy: 0.4275 - val_loss: 0.5442 - val_accuracy: 0.8667\n",
      "Epoch 2/100\n",
      "48/48 [==============================] - 0s 1ms/step - loss: 0.3282 - accuracy: 0.9281 - val_loss: 0.2771 - val_accuracy: 0.9365\n",
      "Epoch 3/100\n",
      "48/48 [==============================] - 0s 1ms/step - loss: 0.1909 - accuracy: 0.9549 - val_loss: 0.8668 - val_accuracy: 0.7270\n",
      "Epoch 4/100\n",
      "48/48 [==============================] - 0s 1ms/step - loss: 0.2194 - accuracy: 0.9308 - val_loss: 1.9142 - val_accuracy: 0.5905\n",
      "Epoch 5/100\n",
      "48/48 [==============================] - 0s 984us/step - loss: 0.3501 - accuracy: 0.9148 - val_loss: 0.2474 - val_accuracy: 0.9365\n",
      "Epoch 6/100\n",
      "48/48 [==============================] - 0s 988us/step - loss: 0.0946 - accuracy: 0.9723 - val_loss: 0.1850 - val_accuracy: 0.9524\n",
      "Epoch 7/100\n",
      "48/48 [==============================] - 0s 995us/step - loss: 0.0737 - accuracy: 0.9805 - val_loss: 0.2029 - val_accuracy: 0.9492\n",
      "Epoch 8/100\n",
      "48/48 [==============================] - 0s 977us/step - loss: 0.0485 - accuracy: 0.9919 - val_loss: 0.1891 - val_accuracy: 0.9397\n",
      "Epoch 9/100\n",
      "48/48 [==============================] - 0s 993us/step - loss: 0.0528 - accuracy: 0.9903 - val_loss: 0.2296 - val_accuracy: 0.9397\n",
      "Epoch 10/100\n",
      "48/48 [==============================] - 0s 994us/step - loss: 0.0438 - accuracy: 0.9972 - val_loss: 0.1662 - val_accuracy: 0.9524\n",
      "Epoch 11/100\n",
      "48/48 [==============================] - 0s 969us/step - loss: 0.0439 - accuracy: 0.9940 - val_loss: 0.1750 - val_accuracy: 0.9524\n",
      "Epoch 12/100\n",
      "48/48 [==============================] - 0s 978us/step - loss: 0.0382 - accuracy: 0.9882 - val_loss: 0.1568 - val_accuracy: 0.9556\n",
      "Epoch 13/100\n",
      "48/48 [==============================] - 0s 975us/step - loss: 0.0312 - accuracy: 0.9958 - val_loss: 0.1560 - val_accuracy: 0.9587\n",
      "Epoch 14/100\n",
      "48/48 [==============================] - 0s 972us/step - loss: 0.0209 - accuracy: 0.9987 - val_loss: 0.1698 - val_accuracy: 0.9460\n",
      "Epoch 15/100\n",
      "48/48 [==============================] - 0s 965us/step - loss: 0.0218 - accuracy: 0.9989 - val_loss: 0.1679 - val_accuracy: 0.9492\n",
      "Epoch 16/100\n",
      "48/48 [==============================] - 0s 992us/step - loss: 0.0248 - accuracy: 0.9976 - val_loss: 0.1622 - val_accuracy: 0.9524\n",
      "Epoch 17/100\n",
      "48/48 [==============================] - 0s 940us/step - loss: 0.0205 - accuracy: 1.0000 - val_loss: 0.1487 - val_accuracy: 0.9492\n",
      "Epoch 18/100\n",
      "48/48 [==============================] - 0s 982us/step - loss: 0.0145 - accuracy: 0.9991 - val_loss: 0.1634 - val_accuracy: 0.9556\n",
      "Epoch 19/100\n",
      "48/48 [==============================] - 0s 963us/step - loss: 0.0145 - accuracy: 1.0000 - val_loss: 0.1453 - val_accuracy: 0.9556\n",
      "Epoch 20/100\n",
      "48/48 [==============================] - 0s 960us/step - loss: 0.0168 - accuracy: 1.0000 - val_loss: 0.1490 - val_accuracy: 0.9524\n",
      "Epoch 21/100\n",
      "48/48 [==============================] - 0s 999us/step - loss: 0.0157 - accuracy: 1.0000 - val_loss: 0.1575 - val_accuracy: 0.9556\n",
      "Epoch 22/100\n",
      "48/48 [==============================] - 0s 941us/step - loss: 0.0118 - accuracy: 1.0000 - val_loss: 0.1553 - val_accuracy: 0.9587\n",
      "Epoch 23/100\n",
      "48/48 [==============================] - 0s 995us/step - loss: 0.0109 - accuracy: 1.0000 - val_loss: 0.1506 - val_accuracy: 0.9556\n",
      "Epoch 24/100\n",
      "48/48 [==============================] - 0s 968us/step - loss: 0.0112 - accuracy: 1.0000 - val_loss: 0.1487 - val_accuracy: 0.9556\n",
      "Epoch 25/100\n",
      "48/48 [==============================] - 0s 940us/step - loss: 0.0103 - accuracy: 1.0000 - val_loss: 0.1433 - val_accuracy: 0.9587\n",
      "Epoch 26/100\n",
      "48/48 [==============================] - 0s 943us/step - loss: 0.0099 - accuracy: 1.0000 - val_loss: 0.1563 - val_accuracy: 0.9556\n",
      "Epoch 27/100\n",
      "48/48 [==============================] - 0s 931us/step - loss: 0.0095 - accuracy: 1.0000 - val_loss: 0.1420 - val_accuracy: 0.9556\n",
      "Epoch 28/100\n",
      "48/48 [==============================] - 0s 964us/step - loss: 0.0082 - accuracy: 1.0000 - val_loss: 0.1469 - val_accuracy: 0.9524\n",
      "Epoch 29/100\n",
      "48/48 [==============================] - 0s 949us/step - loss: 0.0089 - accuracy: 1.0000 - val_loss: 0.1363 - val_accuracy: 0.9556\n",
      "Epoch 30/100\n",
      "48/48 [==============================] - 0s 983us/step - loss: 0.0162 - accuracy: 0.9939 - val_loss: 0.1515 - val_accuracy: 0.9587\n",
      "Epoch 31/100\n",
      "48/48 [==============================] - 0s 936us/step - loss: 0.0075 - accuracy: 1.0000 - val_loss: 0.1358 - val_accuracy: 0.9619\n",
      "Epoch 32/100\n",
      "48/48 [==============================] - 0s 976us/step - loss: 0.0079 - accuracy: 1.0000 - val_loss: 0.1353 - val_accuracy: 0.9619\n",
      "Epoch 33/100\n",
      "48/48 [==============================] - 0s 958us/step - loss: 0.0069 - accuracy: 1.0000 - val_loss: 0.1507 - val_accuracy: 0.9587\n",
      "Epoch 34/100\n",
      "48/48 [==============================] - 0s 954us/step - loss: 0.0071 - accuracy: 1.0000 - val_loss: 0.1387 - val_accuracy: 0.9556\n",
      "Epoch 35/100\n",
      "48/48 [==============================] - 0s 971us/step - loss: 0.0066 - accuracy: 1.0000 - val_loss: 0.1477 - val_accuracy: 0.9556\n",
      "Epoch 36/100\n",
      "48/48 [==============================] - 0s 958us/step - loss: 0.0074 - accuracy: 1.0000 - val_loss: 0.1392 - val_accuracy: 0.9587\n",
      "Epoch 37/100\n",
      "48/48 [==============================] - 0s 957us/step - loss: 0.0061 - accuracy: 1.0000 - val_loss: 0.1365 - val_accuracy: 0.9587\n",
      "Epoch 38/100\n",
      "48/48 [==============================] - 0s 966us/step - loss: 0.0058 - accuracy: 1.0000 - val_loss: 0.1407 - val_accuracy: 0.9619\n",
      "Epoch 39/100\n",
      "48/48 [==============================] - 0s 967us/step - loss: 0.0060 - accuracy: 1.0000 - val_loss: 0.1437 - val_accuracy: 0.9556\n",
      "Epoch 40/100\n",
      "48/48 [==============================] - 0s 1ms/step - loss: 0.0056 - accuracy: 1.0000 - val_loss: 0.1385 - val_accuracy: 0.9556\n",
      "Epoch 41/100\n",
      "48/48 [==============================] - 0s 970us/step - loss: 0.0061 - accuracy: 1.0000 - val_loss: 0.1467 - val_accuracy: 0.9587\n",
      "Epoch 42/100\n",
      "48/48 [==============================] - 0s 941us/step - loss: 0.0060 - accuracy: 1.0000 - val_loss: 0.1398 - val_accuracy: 0.9587\n",
      "Epoch 43/100\n",
      "48/48 [==============================] - 0s 966us/step - loss: 0.0062 - accuracy: 1.0000 - val_loss: 0.1462 - val_accuracy: 0.9587\n",
      "Epoch 44/100\n",
      "48/48 [==============================] - 0s 958us/step - loss: 0.0058 - accuracy: 1.0000 - val_loss: 0.1403 - val_accuracy: 0.9556\n",
      "Epoch 45/100\n",
      "48/48 [==============================] - 0s 956us/step - loss: 0.0048 - accuracy: 1.0000 - val_loss: 0.1413 - val_accuracy: 0.9619\n",
      "Epoch 46/100\n",
      "48/48 [==============================] - 0s 986us/step - loss: 0.0054 - accuracy: 1.0000 - val_loss: 0.1366 - val_accuracy: 0.9619\n",
      "Epoch 47/100\n",
      "48/48 [==============================] - 0s 945us/step - loss: 0.0040 - accuracy: 1.0000 - val_loss: 0.1398 - val_accuracy: 0.9619\n",
      "Epoch 48/100\n",
      "48/48 [==============================] - 0s 967us/step - loss: 0.0044 - accuracy: 1.0000 - val_loss: 0.1353 - val_accuracy: 0.9619\n",
      "Epoch 49/100\n",
      "48/48 [==============================] - 0s 957us/step - loss: 0.0045 - accuracy: 1.0000 - val_loss: 0.1383 - val_accuracy: 0.9587\n",
      "Epoch 50/100\n",
      "48/48 [==============================] - 0s 966us/step - loss: 0.0044 - accuracy: 1.0000 - val_loss: 0.1298 - val_accuracy: 0.9619\n",
      "Epoch 51/100\n",
      "48/48 [==============================] - 0s 979us/step - loss: 0.0041 - accuracy: 1.0000 - val_loss: 0.1317 - val_accuracy: 0.9619\n",
      "Epoch 52/100\n",
      "48/48 [==============================] - 0s 949us/step - loss: 0.0040 - accuracy: 1.0000 - val_loss: 0.1431 - val_accuracy: 0.9619\n",
      "Epoch 53/100\n",
      "48/48 [==============================] - 0s 962us/step - loss: 0.0041 - accuracy: 1.0000 - val_loss: 0.1431 - val_accuracy: 0.9587\n",
      "Epoch 54/100\n",
      "48/48 [==============================] - 0s 966us/step - loss: 0.0044 - accuracy: 1.0000 - val_loss: 0.1319 - val_accuracy: 0.9587\n",
      "Epoch 55/100\n",
      "48/48 [==============================] - 0s 963us/step - loss: 0.0045 - accuracy: 1.0000 - val_loss: 0.1448 - val_accuracy: 0.9619\n",
      "Epoch 56/100\n",
      "48/48 [==============================] - 0s 981us/step - loss: 0.0044 - accuracy: 1.0000 - val_loss: 0.1346 - val_accuracy: 0.9587\n",
      "Epoch 57/100\n",
      "48/48 [==============================] - 0s 954us/step - loss: 0.0038 - accuracy: 1.0000 - val_loss: 0.1349 - val_accuracy: 0.9619\n",
      "Epoch 58/100\n"
     ]
    },
    {
     "name": "stdout",
     "output_type": "stream",
     "text": [
      "48/48 [==============================] - 0s 973us/step - loss: 0.0031 - accuracy: 1.0000 - val_loss: 0.1357 - val_accuracy: 0.9619\n",
      "Epoch 59/100\n",
      "48/48 [==============================] - 0s 973us/step - loss: 0.0038 - accuracy: 1.0000 - val_loss: 0.1346 - val_accuracy: 0.9619\n",
      "Epoch 60/100\n",
      "48/48 [==============================] - 0s 959us/step - loss: 0.0034 - accuracy: 1.0000 - val_loss: 0.1287 - val_accuracy: 0.9587\n",
      "Epoch 61/100\n",
      "48/48 [==============================] - 0s 1ms/step - loss: 0.0032 - accuracy: 1.0000 - val_loss: 0.1397 - val_accuracy: 0.9587\n",
      "Epoch 62/100\n",
      "48/48 [==============================] - 0s 1ms/step - loss: 0.0035 - accuracy: 1.0000 - val_loss: 0.1396 - val_accuracy: 0.9619\n",
      "Epoch 63/100\n",
      "48/48 [==============================] - 0s 1ms/step - loss: 0.0032 - accuracy: 1.0000 - val_loss: 0.1323 - val_accuracy: 0.9619\n",
      "Epoch 64/100\n",
      "48/48 [==============================] - 0s 1ms/step - loss: 0.0030 - accuracy: 1.0000 - val_loss: 0.1292 - val_accuracy: 0.9587\n",
      "Epoch 65/100\n",
      "48/48 [==============================] - 0s 997us/step - loss: 0.0031 - accuracy: 1.0000 - val_loss: 0.1353 - val_accuracy: 0.9619\n",
      "Epoch 66/100\n",
      "48/48 [==============================] - 0s 958us/step - loss: 0.0032 - accuracy: 1.0000 - val_loss: 0.1355 - val_accuracy: 0.9619\n",
      "Epoch 67/100\n",
      "48/48 [==============================] - 0s 975us/step - loss: 0.0032 - accuracy: 1.0000 - val_loss: 0.1385 - val_accuracy: 0.9619\n",
      "Epoch 68/100\n",
      "48/48 [==============================] - 0s 971us/step - loss: 0.0031 - accuracy: 1.0000 - val_loss: 0.1303 - val_accuracy: 0.9619\n",
      "Epoch 69/100\n",
      "48/48 [==============================] - 0s 960us/step - loss: 0.0032 - accuracy: 1.0000 - val_loss: 0.1334 - val_accuracy: 0.9619\n",
      "Epoch 70/100\n",
      "48/48 [==============================] - 0s 988us/step - loss: 0.0026 - accuracy: 1.0000 - val_loss: 0.1337 - val_accuracy: 0.9619\n",
      "Epoch 71/100\n",
      "48/48 [==============================] - 0s 937us/step - loss: 0.0033 - accuracy: 1.0000 - val_loss: 0.1365 - val_accuracy: 0.9619\n",
      "Epoch 72/100\n",
      "48/48 [==============================] - 0s 967us/step - loss: 0.0030 - accuracy: 1.0000 - val_loss: 0.1348 - val_accuracy: 0.9619\n",
      "Epoch 73/100\n",
      "48/48 [==============================] - 0s 963us/step - loss: 0.0028 - accuracy: 1.0000 - val_loss: 0.1352 - val_accuracy: 0.9619\n",
      "Epoch 74/100\n",
      "48/48 [==============================] - 0s 957us/step - loss: 0.0025 - accuracy: 1.0000 - val_loss: 0.1329 - val_accuracy: 0.9651\n",
      "Epoch 75/100\n",
      "48/48 [==============================] - 0s 977us/step - loss: 0.0026 - accuracy: 1.0000 - val_loss: 0.1320 - val_accuracy: 0.9619\n",
      "Epoch 76/100\n",
      "48/48 [==============================] - 0s 937us/step - loss: 0.0028 - accuracy: 1.0000 - val_loss: 0.1285 - val_accuracy: 0.9651\n",
      "Epoch 77/100\n",
      "48/48 [==============================] - 0s 959us/step - loss: 0.0028 - accuracy: 1.0000 - val_loss: 0.1597 - val_accuracy: 0.9556\n",
      "Epoch 78/100\n",
      "48/48 [==============================] - 0s 958us/step - loss: 0.0028 - accuracy: 1.0000 - val_loss: 0.1324 - val_accuracy: 0.9619\n",
      "Epoch 79/100\n",
      "48/48 [==============================] - 0s 989us/step - loss: 0.0025 - accuracy: 1.0000 - val_loss: 0.1329 - val_accuracy: 0.9619\n",
      "Epoch 80/100\n",
      "48/48 [==============================] - 0s 948us/step - loss: 0.0026 - accuracy: 1.0000 - val_loss: 0.1356 - val_accuracy: 0.9619\n",
      "Epoch 81/100\n",
      "48/48 [==============================] - 0s 974us/step - loss: 0.0025 - accuracy: 1.0000 - val_loss: 0.1302 - val_accuracy: 0.9619\n",
      "Epoch 82/100\n",
      "48/48 [==============================] - 0s 970us/step - loss: 0.0024 - accuracy: 1.0000 - val_loss: 0.1309 - val_accuracy: 0.9619\n",
      "Epoch 83/100\n",
      "48/48 [==============================] - 0s 966us/step - loss: 0.0024 - accuracy: 1.0000 - val_loss: 0.1309 - val_accuracy: 0.9619\n",
      "Epoch 84/100\n",
      "48/48 [==============================] - 0s 975us/step - loss: 0.0028 - accuracy: 1.0000 - val_loss: 0.1231 - val_accuracy: 0.9651\n",
      "Epoch 85/100\n",
      "48/48 [==============================] - 0s 972us/step - loss: 0.0026 - accuracy: 1.0000 - val_loss: 0.1293 - val_accuracy: 0.9651\n",
      "Epoch 86/100\n",
      "48/48 [==============================] - 0s 947us/step - loss: 0.0023 - accuracy: 1.0000 - val_loss: 0.1314 - val_accuracy: 0.9619\n",
      "Epoch 87/100\n",
      "48/48 [==============================] - 0s 949us/step - loss: 0.0020 - accuracy: 1.0000 - val_loss: 0.1328 - val_accuracy: 0.9619\n",
      "Epoch 88/100\n",
      "48/48 [==============================] - 0s 968us/step - loss: 0.0021 - accuracy: 1.0000 - val_loss: 0.1308 - val_accuracy: 0.9619\n",
      "Epoch 89/100\n",
      "48/48 [==============================] - 0s 967us/step - loss: 0.0023 - accuracy: 1.0000 - val_loss: 0.1311 - val_accuracy: 0.9651\n",
      "Epoch 90/100\n",
      "48/48 [==============================] - 0s 998us/step - loss: 0.0022 - accuracy: 1.0000 - val_loss: 0.1354 - val_accuracy: 0.9619\n",
      "Epoch 91/100\n",
      "48/48 [==============================] - 0s 950us/step - loss: 0.0022 - accuracy: 1.0000 - val_loss: 0.1339 - val_accuracy: 0.9619\n",
      "Epoch 92/100\n",
      "48/48 [==============================] - 0s 976us/step - loss: 0.0021 - accuracy: 1.0000 - val_loss: 0.1330 - val_accuracy: 0.9619\n",
      "Epoch 93/100\n",
      "48/48 [==============================] - 0s 950us/step - loss: 0.0022 - accuracy: 1.0000 - val_loss: 0.1331 - val_accuracy: 0.9619\n",
      "Epoch 94/100\n",
      "48/48 [==============================] - 0s 985us/step - loss: 0.0018 - accuracy: 1.0000 - val_loss: 0.1352 - val_accuracy: 0.9619\n",
      "Epoch 95/100\n",
      "48/48 [==============================] - 0s 984us/step - loss: 0.0021 - accuracy: 1.0000 - val_loss: 0.1332 - val_accuracy: 0.9619\n",
      "Epoch 96/100\n",
      "48/48 [==============================] - 0s 951us/step - loss: 0.0017 - accuracy: 1.0000 - val_loss: 0.1321 - val_accuracy: 0.9619\n",
      "Epoch 97/100\n",
      "48/48 [==============================] - 0s 937us/step - loss: 0.0021 - accuracy: 1.0000 - val_loss: 0.1340 - val_accuracy: 0.9619\n",
      "Epoch 98/100\n",
      "48/48 [==============================] - 0s 951us/step - loss: 0.0021 - accuracy: 1.0000 - val_loss: 0.1309 - val_accuracy: 0.9619\n",
      "Epoch 99/100\n",
      "48/48 [==============================] - 0s 954us/step - loss: 0.0018 - accuracy: 1.0000 - val_loss: 0.1534 - val_accuracy: 0.9587\n",
      "Epoch 100/100\n",
      "48/48 [==============================] - 0s 963us/step - loss: 0.0024 - accuracy: 1.0000 - val_loss: 0.1329 - val_accuracy: 0.9619\n",
      "CPU times: user 6.59 s, sys: 692 ms, total: 7.28 s\n",
      "Wall time: 5.37 s\n"
     ]
    }
   ],
   "source": [
    "%%time\n",
    "# Fit the model\n",
    "fitted_model = model.fit(\n",
    "    X_train,\n",
    "    y_train,\n",
    "    validation_split = 0.25,\n",
    "    batch_size = 20,\n",
    "    epochs = 100,\n",
    "    verbose = 1)"
   ]
  },
  {
   "cell_type": "code",
   "execution_count": 14,
   "metadata": {
    "ExecuteTime": {
     "end_time": "2021-02-27T02:48:34.316595Z",
     "start_time": "2021-02-27T02:48:34.289130Z"
    },
    "colab": {},
    "colab_type": "code",
    "executionInfo": {
     "elapsed": 868,
     "status": "ok",
     "timestamp": 1592825473649,
     "user": {
      "displayName": "Mai Anh Ly",
      "photoUrl": "https://lh3.googleusercontent.com/a-/AOh14Gj3m3ePWBwBFT7szOlaK8W7lylc_ZnY93J_HKbY5EYiLuSsLy7FtOhGAmfpk-co2FX3NdvOSoUHAjcKyRo5fYAxzXGwBuB_Scz8EEoI0Sd99Sg0jA2hPKbGGL6l3OXXH3RcebQAVwm8daKZ2HaryKtOGaYPEs9Xm4WwmZilYvP12BkymjKBBw7wXJMbb_FMuYXiSJ7kmY0DWt455ZoAKqVSJa8qwbs2DTI_8qb-mnSxDEsvUDfWP5HYXMJ0-_ZkGM3e4Ar7WqqeTz_ra4LyeKayfg3WeqVtxylbHQIDlD2SoYjxZBk1F9dK1eYMhV9norQqhOu7Vd-ye50GdIbvJT8-QvhH3mj6uskBTzXPrA1fEo302QbdbXAVY3r8PvhwuUw4aJtvHHsk37YZNZ36XzswOyKGtKP7YQr9nItYSOQ8ZmWzlJojcN0uHH1RFCoshmE-ncc5Vf8-0LXicZIQp4x8HCIVH93zt4_P9E3PyrYf5mw9oOzmxcBIX3u9yuRv_K3-XV9oUJTZRFCBOqP3phE4KUy_Hwn2ZSv0cfUiuFz5XpPAjvO6hYAsZTayx4_Tr-REFcps30D5U05ItXMetcHTu4JM9Yvg624ZAgWv6NZ526HoOcOja57kG4pX8lmBpLnL6r9bb7PolwB2hpZuZ1Ma4wzL6EG3xNS9VJzMmyN0nZTqf_05jxnnn0wsvqcUAhRqK9PbPxfieRzYPTE20QrMG6gxUrSZ9PDWIMEm5YAYgZb7dZU7_k51mccLXc2mEA=s64",
      "userId": "16059923818223643809"
     },
     "user_tz": -600
    },
    "id": "CQsFQY0fy-Qy"
   },
   "outputs": [
    {
     "name": "stderr",
     "output_type": "stream",
     "text": [
      "/Users/anna_hj/opt/anaconda3/envs/IOD-deep-learning/lib/python3.9/site-packages/tensorflow/python/keras/engine/sequential.py:450: UserWarning: `model.predict_classes()` is deprecated and will be removed after 2021-01-01. Please use instead:* `np.argmax(model.predict(x), axis=-1)`,   if your model does multi-class classification   (e.g. if it uses a `softmax` last-layer activation).* `(model.predict(x) > 0.5).astype(\"int32\")`,   if your model does binary classification   (e.g. if it uses a `sigmoid` last-layer activation).\n",
      "  warnings.warn('`model.predict_classes()` is deprecated and '\n"
     ]
    }
   ],
   "source": [
    "predictions = model.predict_classes(X_test)"
   ]
  },
  {
   "cell_type": "code",
   "execution_count": 15,
   "metadata": {
    "ExecuteTime": {
     "end_time": "2021-02-27T02:48:34.329116Z",
     "start_time": "2021-02-27T02:48:34.319263Z"
    },
    "colab": {
     "base_uri": "https://localhost:8080/",
     "height": 70
    },
    "colab_type": "code",
    "executionInfo": {
     "elapsed": 1160,
     "status": "ok",
     "timestamp": 1592825475254,
     "user": {
      "displayName": "Mai Anh Ly",
      "photoUrl": "https://lh3.googleusercontent.com/a-/AOh14Gj3m3ePWBwBFT7szOlaK8W7lylc_ZnY93J_HKbY5EYiLuSsLy7FtOhGAmfpk-co2FX3NdvOSoUHAjcKyRo5fYAxzXGwBuB_Scz8EEoI0Sd99Sg0jA2hPKbGGL6l3OXXH3RcebQAVwm8daKZ2HaryKtOGaYPEs9Xm4WwmZilYvP12BkymjKBBw7wXJMbb_FMuYXiSJ7kmY0DWt455ZoAKqVSJa8qwbs2DTI_8qb-mnSxDEsvUDfWP5HYXMJ0-_ZkGM3e4Ar7WqqeTz_ra4LyeKayfg3WeqVtxylbHQIDlD2SoYjxZBk1F9dK1eYMhV9norQqhOu7Vd-ye50GdIbvJT8-QvhH3mj6uskBTzXPrA1fEo302QbdbXAVY3r8PvhwuUw4aJtvHHsk37YZNZ36XzswOyKGtKP7YQr9nItYSOQ8ZmWzlJojcN0uHH1RFCoshmE-ncc5Vf8-0LXicZIQp4x8HCIVH93zt4_P9E3PyrYf5mw9oOzmxcBIX3u9yuRv_K3-XV9oUJTZRFCBOqP3phE4KUy_Hwn2ZSv0cfUiuFz5XpPAjvO6hYAsZTayx4_Tr-REFcps30D5U05ItXMetcHTu4JM9Yvg624ZAgWv6NZ526HoOcOja57kG4pX8lmBpLnL6r9bb7PolwB2hpZuZ1Ma4wzL6EG3xNS9VJzMmyN0nZTqf_05jxnnn0wsvqcUAhRqK9PbPxfieRzYPTE20QrMG6gxUrSZ9PDWIMEm5YAYgZb7dZU7_k51mccLXc2mEA=s64",
      "userId": "16059923818223643809"
     },
     "user_tz": -600
    },
    "id": "7XbWCdmmy-Q0",
    "outputId": "24e9b6ce-ba9f-41de-c035-7b6fa869d690",
    "scrolled": true
   },
   "outputs": [
    {
     "name": "stdout",
     "output_type": "stream",
     "text": [
      "2/2 [==============================] - 0s 1ms/step - loss: 0.0926 - accuracy: 0.9778\n",
      "\n",
      "Test loss: 0.092600, Test accuracy: 0.977778\n"
     ]
    }
   ],
   "source": [
    "score = model.evaluate(X_test, y_test, batch_size = 315)\n",
    "print('\\nTest loss: %.6f, Test accuracy: %.6f' % tuple(score))"
   ]
  },
  {
   "cell_type": "code",
   "execution_count": 16,
   "metadata": {
    "ExecuteTime": {
     "end_time": "2021-02-27T02:48:34.337466Z",
     "start_time": "2021-02-27T02:48:34.332251Z"
    },
    "colab": {},
    "colab_type": "code",
    "id": "YAEoxWaNy-Q2"
   },
   "outputs": [],
   "source": [
    "def print_cm(cm):\n",
    "    c = '%%%dd ' % len('%d' % cm.max())\n",
    "    s = ' | '\n",
    "    s += ''.join([c % i for i in range(len(cm[0]))])\n",
    "    print(s)\n",
    "    print('-' * len(s))\n",
    "    for i, r in enumerate(cm):\n",
    "        s = '%d| ' % i\n",
    "        s += c * len(r)\n",
    "        print(s % tuple(r))"
   ]
  },
  {
   "cell_type": "code",
   "execution_count": 17,
   "metadata": {
    "ExecuteTime": {
     "end_time": "2021-02-27T02:48:34.349598Z",
     "start_time": "2021-02-27T02:48:34.340105Z"
    },
    "colab": {
     "base_uri": "https://localhost:8080/",
     "height": 230
    },
    "colab_type": "code",
    "executionInfo": {
     "elapsed": 677,
     "status": "ok",
     "timestamp": 1560987282219,
     "user": {
      "displayName": "Ibrahim Faisal",
      "photoUrl": "https://lh3.googleusercontent.com/-67DMczu7rgM/AAAAAAAAAAI/AAAAAAAAAAc/6f5FCnBgxFs/s64/photo.jpg",
      "userId": "02685917636347920688"
     },
     "user_tz": -600
    },
    "id": "5a00OEH5y-Q4",
    "outputId": "3344a8e1-bb45-4799-9e98-2fef7e4b907f",
    "scrolled": true
   },
   "outputs": [
    {
     "name": "stdout",
     "output_type": "stream",
     "text": [
      " |  0  1  2  3  4  5  6  7  8  9 \n",
      "---------------------------------\n",
      "0| 54  0  0  0  1  0  0  0  0  0 \n",
      "1|  0 54  0  0  0  0  0  0  1  0 \n",
      "2|  0  0 49  0  0  0  0  0  0  0 \n",
      "3|  0  0  0 49  0  3  0  0  0  0 \n",
      "4|  1  0  0  0 53  0  0  0  0  1 \n",
      "5|  0  0  0  0  0 60  0  0  0  0 \n",
      "6|  0  0  0  0  1  0 60  0  0  0 \n",
      "7|  0  0  0  0  0  0  0 51  0  1 \n",
      "8|  0  1  0  0  0  1  0  0 47  0 \n",
      "9|  0  0  0  0  0  1  0  0  0 51 \n"
     ]
    }
   ],
   "source": [
    "y_test_target = np.array([x.argmax() for x in y_test])\n",
    "cm = confusion_matrix(y_test_target, predictions)\n",
    "print_cm(cm)"
   ]
  },
  {
   "cell_type": "code",
   "execution_count": 18,
   "metadata": {
    "ExecuteTime": {
     "end_time": "2021-02-27T02:48:34.750353Z",
     "start_time": "2021-02-27T02:48:34.352748Z"
    },
    "colab": {
     "base_uri": "https://localhost:8080/",
     "height": 430
    },
    "colab_type": "code",
    "executionInfo": {
     "elapsed": 1308,
     "status": "ok",
     "timestamp": 1560987288359,
     "user": {
      "displayName": "Ibrahim Faisal",
      "photoUrl": "https://lh3.googleusercontent.com/-67DMczu7rgM/AAAAAAAAAAI/AAAAAAAAAAc/6f5FCnBgxFs/s64/photo.jpg",
      "userId": "02685917636347920688"
     },
     "user_tz": -600
    },
    "id": "UhiEYNVqy-Q6",
    "outputId": "f2584738-9742-4c15-8735-98938107e333",
    "scrolled": true
   },
   "outputs": [
    {
     "data": {
      "image/png": "[encoded data removed]",
      "text/plain": [
       "<Figure size 1296x432 with 2 Axes>"
      ]
     },
     "metadata": {
      "needs_background": "light"
     },
     "output_type": "display_data"
    }
   ],
   "source": [
    "fig, ax = plt.subplots(1, 2, figsize = (18, 6))\n",
    "fig.subplots_adjust(left = 0.02, right = 0.98, wspace = 0.2)\n",
    "\n",
    "plt.rcParams.update({'font.size': 18})\n",
    "\n",
    "# Plot training & validation accuracy values\n",
    "ax[0].plot(fitted_model.history['accuracy'], label = 'Training')\n",
    "ax[0].plot(fitted_model.history['val_accuracy'], label = 'Validation')\n",
    "ax[0].set_title('Model accuracy')\n",
    "ax[0].set_ylabel('Accuracy')\n",
    "ax[0].set_xlabel('Epoch')\n",
    "ax[0].legend()\n",
    "\n",
    "# Plot training & validation loss values\n",
    "ax[1].plot(fitted_model.history['loss'], label = 'Training')\n",
    "ax[1].plot(fitted_model.history['val_loss'], label = 'Validation')\n",
    "ax[1].set_title('Model loss')\n",
    "ax[1].set_ylabel('Loss')\n",
    "ax[1].set_xlabel('Epoch')\n",
    "ax[1].legend()\n",
    "\n",
    "plt.show()"
   ]
  },
  {
   "cell_type": "code",
   "execution_count": 19,
   "metadata": {
    "ExecuteTime": {
     "end_time": "2021-02-27T02:48:34.757816Z",
     "start_time": "2021-02-27T02:48:34.753222Z"
    },
    "colab": {},
    "colab_type": "code",
    "id": "grQoh06wy-Q7"
   },
   "outputs": [],
   "source": [
    "def show_digit():\n",
    "    id = np.random.randint(len(predictions))\n",
    "    XTest = X_test[id].reshape(8, 8)\n",
    "    plt.figure(figsize = (2, 2))\n",
    "    plt.imshow(XTest, cmap = 'gray')\n",
    "    plt.title('Prediction: %d' % predictions[id])\n",
    "    plt.xticks([])\n",
    "    plt.yticks([])\n",
    "    plt.show()"
   ]
  },
  {
   "cell_type": "code",
   "execution_count": 20,
   "metadata": {
    "ExecuteTime": {
     "end_time": "2021-02-27T02:48:34.768111Z",
     "start_time": "2021-02-27T02:48:34.759771Z"
    },
    "colab": {},
    "colab_type": "code",
    "id": "4A6G2LEPy-Q9"
   },
   "outputs": [],
   "source": [
    "def show_10_digits():\n",
    "    fig, ax = plt.subplots(2, 5, figsize = (8, 4))\n",
    "    fig.subplots_adjust(left = 0.02, right = 0.98, top = 0.8, wspace = 0.2, hspace = 0.3)\n",
    "    fig.suptitle('Ten Predictions', fontsize = 12, fontweight = 'bold')\n",
    "\n",
    "    plt.rcParams.update({'font.size': 10})\n",
    "    \n",
    "    ids = np.random.randint(len(predictions), size = 10)\n",
    "    r = 0\n",
    "    c = 0\n",
    "    for id in ids:\n",
    "        XTest = X_test[id].reshape(8, 8)\n",
    "\n",
    "        # original image\n",
    "        ax[r, c].imshow(XTest, cmap = 'gray')\n",
    "        ax[r, c].set_title('Prediction: %d' % predictions[id])\n",
    "        ax[r, c].set_xticks([])\n",
    "        ax[r, c].set_yticks([])\n",
    "        c += 1\n",
    "        if c > 4:\n",
    "            r += 1\n",
    "            c = 0\n",
    "\n",
    "    plt.show()"
   ]
  },
  {
   "cell_type": "code",
   "execution_count": 21,
   "metadata": {
    "ExecuteTime": {
     "end_time": "2021-02-27T02:48:34.819037Z",
     "start_time": "2021-02-27T02:48:34.773369Z"
    },
    "colab": {
     "base_uri": "https://localhost:8080/",
     "height": 165
    },
    "colab_type": "code",
    "executionInfo": {
     "elapsed": 750,
     "status": "ok",
     "timestamp": 1560987306209,
     "user": {
      "displayName": "Ibrahim Faisal",
      "photoUrl": "https://lh3.googleusercontent.com/-67DMczu7rgM/AAAAAAAAAAI/AAAAAAAAAAc/6f5FCnBgxFs/s64/photo.jpg",
      "userId": "02685917636347920688"
     },
     "user_tz": -600
    },
    "id": "iG9wf-bTy-Q-",
    "outputId": "2092ecd0-c4a8-4252-d4df-3f383a3d3b34"
   },
   "outputs": [
    {
     "data": {
      "image/png": "[encoded data removed]",
      "text/plain": [
       "<Figure size 144x144 with 1 Axes>"
      ]
     },
     "metadata": {},
     "output_type": "display_data"
    }
   ],
   "source": [
    "# show one\n",
    "show_digit()"
   ]
  },
  {
   "cell_type": "code",
   "execution_count": 22,
   "metadata": {
    "ExecuteTime": {
     "end_time": "2021-02-27T02:48:35.172430Z",
     "start_time": "2021-02-27T02:48:34.821428Z"
    },
    "colab": {
     "base_uri": "https://localhost:8080/",
     "height": 281
    },
    "colab_type": "code",
    "executionInfo": {
     "elapsed": 958,
     "status": "ok",
     "timestamp": 1560987309548,
     "user": {
      "displayName": "Ibrahim Faisal",
      "photoUrl": "https://lh3.googleusercontent.com/-67DMczu7rgM/AAAAAAAAAAI/AAAAAAAAAAc/6f5FCnBgxFs/s64/photo.jpg",
      "userId": "02685917636347920688"
     },
     "user_tz": -600
    },
    "id": "Ue7Oo4Vxy-Q_",
    "outputId": "e6dc190e-2096-4da0-ab9c-db6d67e18e3c",
    "scrolled": true
   },
   "outputs": [
    {
     "data": {
      "image/png": "[encoded data removed]",
      "text/plain": [
       "<Figure size 576x288 with 10 Axes>"
      ]
     },
     "metadata": {},
     "output_type": "display_data"
    }
   ],
   "source": [
    "# show ten\n",
    "show_10_digits()"
   ]
  },
  {
   "cell_type": "markdown",
   "metadata": {
    "colab_type": "text",
    "id": "RERADKgNFq9T"
   },
   "source": [
    "© 2020 Institute of Data"
   ]
  }
 ],
 "metadata": {
  "accelerator": "GPU",
  "colab": {
   "collapsed_sections": [],
   "name": "IOD_Demo-10-Keras.ipynb",
   "provenance": []
  },
  "kernelspec": {
   "display_name": "Python 3 (ipykernel)",
   "language": "python",
   "name": "python3"
  },
  "language_info": {
   "codemirror_mode": {
    "name": "ipython",
    "version": 3
   },
   "file_extension": ".py",
   "mimetype": "text/x-python",
   "name": "python",
   "nbconvert_exporter": "python",
   "pygments_lexer": "ipython3",
   "version": "3.9.0"
  },
  "toc": {
   "base_numbering": 1,
   "nav_menu": {},
   "number_sections": true,
   "sideBar": true,
   "skip_h1_title": false,
   "title_cell": "Table of Contents",
   "title_sidebar": "Contents",
   "toc_cell": false,
   "toc_position": {},
   "toc_section_display": true,
   "toc_window_display": true
  }
 },
 "nbformat": 4,
 "nbformat_minor": 1
}
